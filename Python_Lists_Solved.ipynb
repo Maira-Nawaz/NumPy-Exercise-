{
  "cells": [
    {
      "cell_type": "markdown",
      "metadata": {
        "id": "_Udetj7I9N80"
      },
      "source": [
        "#PYTHON LISTS"
      ]
    },
    {
      "cell_type": "markdown",
      "metadata": {
        "id": "5URNDD792Y_f"
      },
      "source": [
        "**SIMPLE PYTHON LIST**"
      ]
    },
    {
      "cell_type": "markdown",
      "metadata": {
        "id": "5PLR7OQ80P-6"
      },
      "source": [
        "Task# 1\n",
        "\n",
        "a. Create a variable pi_string with “3.1415926” value. print the type of\n",
        "pi_string.\n",
        "\n"
      ]
    },
    {
      "cell_type": "code",
      "execution_count": null,
      "metadata": {
        "colab": {
          "base_uri": "https://localhost:8080/"
        },
        "id": "fV33p0SDOTdg",
        "outputId": "fb8b8c8c-96aa-450d-ae80-77fa81276550"
      },
      "outputs": [
        {
          "name": "stdout",
          "output_type": "stream",
          "text": [
            "<class 'str'>\n"
          ]
        }
      ],
      "source": [
        "pi_string = \"3.1415926\"\n",
        "\n",
        "print(type(pi_string))\n"
      ]
    },
    {
      "cell_type": "markdown",
      "metadata": {
        "id": "aKlYK7F5nq_y"
      },
      "source": [
        "b. Convert the variable pi_string to a float and store this float as a new variable, pi_float. print the type of pi_float."
      ]
    },
    {
      "cell_type": "code",
      "execution_count": null,
      "metadata": {
        "colab": {
          "base_uri": "https://localhost:8080/"
        },
        "id": "otc7YNalOoiE",
        "outputId": "39d93b6b-f2ec-4391-86b8-400b91275f9b"
      },
      "outputs": [
        {
          "name": "stdout",
          "output_type": "stream",
          "text": [
            "<class 'float'>\n"
          ]
        }
      ],
      "source": [
        "pi_float = float(pi_string)\n",
        "print(type(pi_float))"
      ]
    },
    {
      "cell_type": "markdown",
      "metadata": {
        "id": "zstJOsqb0Q0-"
      },
      "source": [
        "Task# 2\n",
        "\n",
        "a. Create variables for areas of different parts of your house and assign random values to it (e.g. hall, kitchen, living room, bedroom, bathroom).\n"
      ]
    },
    {
      "cell_type": "code",
      "execution_count": null,
      "metadata": {
        "id": "brPpOVfDn3kG"
      },
      "outputs": [],
      "source": [
        "hallway = 1.2\n",
        "kitchen = 3.5\n",
        "living_room = 4.5\n",
        "bedroom = 15.3\n",
        "bathroom = 1.5"
      ]
    },
    {
      "cell_type": "markdown",
      "metadata": {
        "id": "i6X6B_Pn0Q8I"
      },
      "source": [
        "Task# 3\n",
        "\n",
        "a. Create a list containing areas of different parts of a house. Use the predefined variables.\n",
        "Print areas with the print() function.\n"
      ]
    },
    {
      "cell_type": "code",
      "execution_count": null,
      "metadata": {
        "colab": {
          "base_uri": "https://localhost:8080/"
        },
        "id": "W2bSB2g1o4S8",
        "outputId": "ee35dd9e-1ee2-496c-e4ec-db16f467429b"
      },
      "outputs": [
        {
          "name": "stdout",
          "output_type": "stream",
          "text": [
            "[1.2, 3.5, 4.5, 15.3, 1.5]\n"
          ]
        }
      ],
      "source": [
        "areas = [hallway, kitchen, living_room, bedroom, bathroom]\n",
        "\n",
        "print(areas)"
      ]
    },
    {
      "cell_type": "markdown",
      "metadata": {
        "id": "FaU8ghbw0Q_H"
      },
      "source": [
        "Task# 4\n",
        "\n",
        "a. Finish the line of code that creates the areas list. Build the list so that the\n",
        "list first contains the name of each room as a string and then its area. In\n",
        "other words, add the strings \"hallway\", \"kitchen\" and \"bedroom\" at\n",
        "the appropriate locations. Print areas again.\n"
      ]
    },
    {
      "cell_type": "code",
      "execution_count": null,
      "metadata": {
        "colab": {
          "base_uri": "https://localhost:8080/"
        },
        "id": "AN7uaTStrIop",
        "outputId": "f61294c8-29dd-48b2-a1fe-1b3f24d466c9"
      },
      "outputs": [
        {
          "name": "stdout",
          "output_type": "stream",
          "text": [
            "[['hallway', 11.25], ['kitchen', 18.0], ['living room', 20.0], ['bedroom', 10.75], ['bathroom', 9.5]]\n"
          ]
        }
      ],
      "source": [
        "areas_list = [['hallway', 11.25],  ['kitchen', 18.0],  ['living room', 20.0],  ['bedroom', 10.75],  ['bathroom', 9.5]]\n",
        "\n",
        "print(areas_list)"
      ]
    },
    {
      "cell_type": "markdown",
      "metadata": {
        "id": "OY2Uewzz0REe"
      },
      "source": [
        "**NESTED LISTS (LIST OF LISTS)**"
      ]
    },
    {
      "cell_type": "markdown",
      "metadata": {
        "id": "OGfWj7ou0RGt"
      },
      "source": [
        "Task# 5\n",
        "\n",
        "Can you structure the house data as a list of list. Create a List Called house and also print the type of the list.\n",
        "hall=11.25\n",
        "kit=18.0\n",
        "liv=20.0\n",
        "bed=10.75\n",
        "bath=9.50\n",
        "\n",
        "Your Output Should Look Like This:\n",
        "\n",
        " [['hallway', 11.25], ['kitchen', 18.0], ['living room', 20.0], ['bedroom', 10.75], ['bathroom', 9.5]]\n"
      ]
    },
    {
      "cell_type": "code",
      "execution_count": null,
      "metadata": {
        "colab": {
          "base_uri": "https://localhost:8080/"
        },
        "id": "JpzXUx81rZl3",
        "outputId": "eb7a9d77-fdb9-4741-cd03-debe3bb69d05"
      },
      "outputs": [
        {
          "name": "stdout",
          "output_type": "stream",
          "text": [
            "[['hallway', 11.25], ['kitchen', 18.0], ['living room', 20.0], ['bedroom', 10.75], ['bathroom', 9.5]]\n"
          ]
        }
      ],
      "source": [
        "hall=11.25\n",
        "kit=18.0\n",
        "liv=20.0\n",
        "bed=10.75\n",
        "bath=9.50\n",
        "\n",
        "house = [['hallway', hall], ['kitchen', kit], ['living room', liv], ['bedroom', bed], ['bathroom', bath]]\n",
        "\n",
        "print(house)"
      ]
    },
    {
      "cell_type": "markdown",
      "metadata": {
        "id": "tRk85nC90RJF"
      },
      "source": [
        "TASK# 6\n",
        "\n",
        "areas=[\"hallway\",11.25,\"kitchen\",18.0,\"living Room\",20.0,\"bedroom\",10.75,\"bathroom\",9.50]\n",
        "\n"
      ]
    },
    {
      "cell_type": "code",
      "execution_count": null,
      "metadata": {
        "id": "4NAA3T2Tr91r"
      },
      "outputs": [],
      "source": [
        "areas=[\"hallway\",11.25,\"kitchen\",18.0,\"living Room\",20.0,\"bedroom\",10.75,\"bathroom\",9.50]"
      ]
    },
    {
      "cell_type": "markdown",
      "metadata": {
        "id": "rGQX5sHSs7NM"
      },
      "source": [
        "a. Print out the second element from the areas list:"
      ]
    },
    {
      "cell_type": "code",
      "execution_count": null,
      "metadata": {
        "colab": {
          "base_uri": "https://localhost:8080/"
        },
        "id": "_dAMv5aDr9yW",
        "outputId": "6c1bd318-52c7-43b5-c7cc-4500ef04402e"
      },
      "outputs": [
        {
          "name": "stdout",
          "output_type": "stream",
          "text": [
            "11.25\n"
          ]
        }
      ],
      "source": [
        "print(areas[1])"
      ]
    },
    {
      "cell_type": "markdown",
      "metadata": {
        "id": "4jkA1LzbtFxX"
      },
      "source": [
        "b. Print out the last element of areas."
      ]
    },
    {
      "cell_type": "code",
      "execution_count": null,
      "metadata": {
        "colab": {
          "base_uri": "https://localhost:8080/"
        },
        "id": "XyKnoBKnr9wS",
        "outputId": "75697114-59c6-4198-abb3-70376a08ad09"
      },
      "outputs": [
        {
          "name": "stdout",
          "output_type": "stream",
          "text": [
            "9.5\n"
          ]
        }
      ],
      "source": [
        "print(areas[9])"
      ]
    },
    {
      "cell_type": "markdown",
      "metadata": {
        "id": "0_AEWg8i0RLW"
      },
      "source": [
        "TASK# 7\n",
        "\n",
        "areas=[\"hallway\",11.25,\"kitchen\",18.0,\"living Room\",20.0,\"bedroom\",10.75,\"bathroom\",9.50]\n",
        "\n",
        "a. Use slicing to create a list, downstairs, that contains the first 6 elements of areas.\n",
        "Print downstairs using print().\n",
        "\n",
        "\n",
        "\n"
      ]
    },
    {
      "cell_type": "code",
      "execution_count": 77,
      "metadata": {
        "colab": {
          "base_uri": "https://localhost:8080/"
        },
        "id": "IxWQkXEYtNpK",
        "outputId": "efee2a67-f97e-4649-e5c3-210f1e253acb"
      },
      "outputs": [
        {
          "output_type": "stream",
          "name": "stdout",
          "text": [
            "['hallway', 11.25, 'kitchen', 18.0, 'living Room', 20.0]\n"
          ]
        }
      ],
      "source": [
        "areas=[\"hallway\",11.25,\"kitchen\",18.0,\"living Room\",20.0,\"bedroom\",10.75,\"bathroom\",9.50]\n",
        "\n",
        "downstairs = areas[0:6]\n",
        "\n",
        "print(downstairs)"
      ]
    },
    {
      "cell_type": "markdown",
      "source": [
        "b. Do a similar thing to create a new variable, upstairs, that contains the last 4\n",
        "elements of areas.\n",
        "Print upstairs using print()."
      ],
      "metadata": {
        "id": "yuQz8aW2_KcA"
      }
    },
    {
      "cell_type": "code",
      "source": [
        "upstairs = areas[6:]\n",
        "\n",
        "print(upstairs)"
      ],
      "metadata": {
        "colab": {
          "base_uri": "https://localhost:8080/"
        },
        "id": "U9PNseTI-2CW",
        "outputId": "1a036477-0aff-4a83-f9a4-20d3ade5b901"
      },
      "execution_count": 80,
      "outputs": [
        {
          "output_type": "stream",
          "name": "stdout",
          "text": [
            "['bedroom', 10.75, 'bathroom', 9.5]\n"
          ]
        }
      ]
    },
    {
      "cell_type": "markdown",
      "metadata": {
        "id": "cvGe70sBagFd"
      },
      "source": [
        "![image.png](data:image/png;base64,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)"
      ]
    },
    {
      "cell_type": "markdown",
      "metadata": {
        "id": "wEqIKxiF0RNt"
      },
      "source": [
        "TASK# 8\n",
        "\n",
        "areas=[\"hallway\",11.25,\"kitchen\",18.0,\"living Room\",20.0,\"bedroom\",10.75,\"bathroom\",9.50]\n",
        "\n",
        "a. Update the area of the bathroom area to be 10.50 square meters instead\n",
        "of 9.50. Print out areas list using print().\n"
      ]
    },
    {
      "cell_type": "code",
      "source": [
        "areas=[\"hallway\",11.25,\"kitchen\",18.0,\"living Room\",20.0,\"bedroom\",10.75,\"bathroom\",9.50]\n",
        "\n",
        "\n",
        "areas[-1] = 10.50\n",
        "\n",
        "areas"
      ],
      "metadata": {
        "colab": {
          "base_uri": "https://localhost:8080/"
        },
        "id": "wLuYsz4o983z",
        "outputId": "2c3b09e1-8fc6-4c14-8ee5-d4525d4a3a97"
      },
      "execution_count": 72,
      "outputs": [
        {
          "output_type": "execute_result",
          "data": {
            "text/plain": [
              "['hallway',\n",
              " 11.25,\n",
              " 'kitchen',\n",
              " 18.0,\n",
              " 'living Room',\n",
              " 20.0,\n",
              " 'bedroom',\n",
              " 10.75,\n",
              " 'bathroom',\n",
              " 10.5]"
            ]
          },
          "metadata": {},
          "execution_count": 72
        }
      ]
    },
    {
      "cell_type": "markdown",
      "source": [
        "b. Change \"living room\" to \"chill zone\". Print\n",
        "out areas list using print()."
      ],
      "metadata": {
        "id": "APiBPpNd-ayw"
      }
    },
    {
      "cell_type": "code",
      "source": [
        "areas[4] = \"chill zone\"\n",
        "\n",
        "areas"
      ],
      "metadata": {
        "colab": {
          "base_uri": "https://localhost:8080/"
        },
        "id": "51Ucof1698Ba",
        "outputId": "efc7d845-24ca-4c8e-a7e8-8b4f3239d366"
      },
      "execution_count": 74,
      "outputs": [
        {
          "output_type": "execute_result",
          "data": {
            "text/plain": [
              "['hallway',\n",
              " 11.25,\n",
              " 'kitchen',\n",
              " 18.0,\n",
              " 'chill zone',\n",
              " 20.0,\n",
              " 'bedroom',\n",
              " 10.75,\n",
              " 'bathroom',\n",
              " 10.5]"
            ]
          },
          "metadata": {},
          "execution_count": 74
        }
      ]
    },
    {
      "cell_type": "markdown",
      "metadata": {
        "id": "JCWQNeM90RQt"
      },
      "source": [
        "TASK# 9\n",
        "\n",
        "areas=[\"hallway\",11.25,\"kitchen\",18.0,\"living Room\",20.0,\"bedroom\",10.75,\"bathroom\",9.50]\n",
        "\n",
        "a. You decide to build a garage [15.45]. Can you add the information to the areas\n",
        "list?\n",
        "print areas list using print().\n"
      ]
    },
    {
      "cell_type": "code",
      "source": [
        "areas=[\"hallway\",11.25,\"kitchen\",18.0,\"living Room\",20.0,\"bedroom\",10.75,\"bathroom\",9.50]\n",
        "\n",
        "areas + [\"garage\", 15.45]\n"
      ],
      "metadata": {
        "colab": {
          "base_uri": "https://localhost:8080/"
        },
        "id": "j6S2eBCe9pns",
        "outputId": "9b49940c-2137-421d-eae7-675fe9716492"
      },
      "execution_count": 70,
      "outputs": [
        {
          "output_type": "execute_result",
          "data": {
            "text/plain": [
              "['hallway',\n",
              " 11.25,\n",
              " 'kitchen',\n",
              " 18.0,\n",
              " 'living Room',\n",
              " 20.0,\n",
              " 'bedroom',\n",
              " 10.75,\n",
              " 'bathroom',\n",
              " 9.5,\n",
              " 'garage',\n",
              " 15.45]"
            ]
          },
          "metadata": {},
          "execution_count": 70
        }
      ]
    },
    {
      "cell_type": "markdown",
      "source": [
        "b. Delete garage and its value form areas list."
      ],
      "metadata": {
        "id": "LDed2A8H-AHV"
      }
    },
    {
      "cell_type": "code",
      "source": [
        "del areas[10:11]\n",
        "\n",
        "areas"
      ],
      "metadata": {
        "colab": {
          "base_uri": "https://localhost:8080/"
        },
        "id": "PAVB6LMf9paz",
        "outputId": "e96e56b5-bcbe-414c-bcf3-8ab3aef289ef"
      },
      "execution_count": 71,
      "outputs": [
        {
          "output_type": "execute_result",
          "data": {
            "text/plain": [
              "['hallway',\n",
              " 11.25,\n",
              " 'kitchen',\n",
              " 18.0,\n",
              " 'living Room',\n",
              " 20.0,\n",
              " 'bedroom',\n",
              " 10.75,\n",
              " 'bathroom',\n",
              " 9.5]"
            ]
          },
          "metadata": {},
          "execution_count": 71
        }
      ]
    },
    {
      "cell_type": "markdown",
      "metadata": {
        "id": "e-CwDSWy0QNE"
      },
      "source": [
        "TASK# 10\n",
        "\n",
        "var1 =[1,2,3,4]\n",
        "var2=True\n",
        "\n",
        "To complete\n",
        "this task use the code above.\n",
        "\n",
        "a. Use print() in combination with type() to print out the type of var1and var2.\n",
        "\n"
      ]
    },
    {
      "cell_type": "code",
      "source": [
        "var1 =[1,2,3,4]\n",
        "var2=True\n",
        "\n",
        "print(type(var1))\n",
        "print(type(var2))"
      ],
      "metadata": {
        "colab": {
          "base_uri": "https://localhost:8080/"
        },
        "id": "2oB7-H3K9ZE8",
        "outputId": "6eaa3362-33ee-48c4-fa84-18887a48bc95"
      },
      "execution_count": 68,
      "outputs": [
        {
          "output_type": "stream",
          "name": "stdout",
          "text": [
            "<class 'list'>\n",
            "<class 'bool'>\n"
          ]
        }
      ]
    },
    {
      "cell_type": "markdown",
      "source": [
        "b. Use print() in combination with len() to print out the length of the list var1."
      ],
      "metadata": {
        "id": "_5SyWaSU9naG"
      }
    },
    {
      "cell_type": "code",
      "source": [
        "print(len(var1))"
      ],
      "metadata": {
        "colab": {
          "base_uri": "https://localhost:8080/"
        },
        "id": "6U0FccvQ9Yzf",
        "outputId": "7d32e1fb-c69e-4f52-c08a-a6aba67f20ff"
      },
      "execution_count": 69,
      "outputs": [
        {
          "output_type": "stream",
          "name": "stdout",
          "text": [
            "4\n"
          ]
        }
      ]
    },
    {
      "cell_type": "markdown",
      "metadata": {
        "id": "9EV51k1Y9EWW"
      },
      "source": [
        "#Built-in Functions"
      ]
    },
    {
      "cell_type": "markdown",
      "metadata": {
        "id": "X5kqgZUb9EgF"
      },
      "source": [
        "Task# 11\n",
        "\n",
        "a. Let’s find the position of “cherry” in the Fruit List [‘apple’, ‘banana’, ‘cherry’]?\n"
      ]
    },
    {
      "cell_type": "code",
      "source": [
        "Fruit_List = [\"apple\", \"banana\", \"cherry\"]\n",
        "\n",
        "print(Fruit_List.index(\"cherry\"))"
      ],
      "metadata": {
        "colab": {
          "base_uri": "https://localhost:8080/"
        },
        "id": "hQjD02cW81Vh",
        "outputId": "12f1c97f-7033-42db-8e9e-23a9aef497ff"
      },
      "execution_count": 66,
      "outputs": [
        {
          "output_type": "stream",
          "name": "stdout",
          "text": [
            "2\n"
          ]
        }
      ]
    },
    {
      "cell_type": "markdown",
      "source": [
        "b. Let’s find the number of times “cherry” occurs in the Fruit List ['cherry', ‘banana’, ‘cherry’, 'apple']?"
      ],
      "metadata": {
        "id": "12J_Y2At9WpP"
      }
    },
    {
      "cell_type": "code",
      "source": [
        "Fruit_List = [\"apple\", \"banana\", \"cherry\", \"cherry\"]\n",
        "\n",
        "print(Fruit_List.count(\"cherry\"))"
      ],
      "metadata": {
        "colab": {
          "base_uri": "https://localhost:8080/"
        },
        "id": "YXH2PQx181IF",
        "outputId": "c140dc4b-4321-42dd-ec2e-180d6d0a156a"
      },
      "execution_count": 67,
      "outputs": [
        {
          "output_type": "stream",
          "name": "stdout",
          "text": [
            "2\n"
          ]
        }
      ]
    },
    {
      "cell_type": "markdown",
      "metadata": {
        "id": "1L0L_OYa9EkG"
      },
      "source": [
        "Task# 12\n",
        "\n",
        "areas=[11.25,18.0,20.0,10.75,9.50]\n",
        "\n",
        "a. Use the index() method to get the index of the element in areas list that is equal to 20.0 and print\n",
        "out this index."
      ]
    },
    {
      "cell_type": "code",
      "source": [
        "areas=[11.25,18.0,20.0,10.75,9.50]\n",
        "\n",
        "print(areas.index(20.0))"
      ],
      "metadata": {
        "colab": {
          "base_uri": "https://localhost:8080/"
        },
        "id": "s5GEqzqg8Ssd",
        "outputId": "fb6ce6aa-b908-464e-a743-b16c2615ba70"
      },
      "execution_count": 63,
      "outputs": [
        {
          "output_type": "stream",
          "name": "stdout",
          "text": [
            "2\n"
          ]
        }
      ]
    },
    {
      "cell_type": "markdown",
      "source": [
        "b. Use count() on the areas list to find out how many times 9.50 appears and print out this\n",
        "number."
      ],
      "metadata": {
        "id": "z33Ra9w78swR"
      }
    },
    {
      "cell_type": "code",
      "source": [
        "print(areas.count(9.50))"
      ],
      "metadata": {
        "colab": {
          "base_uri": "https://localhost:8080/"
        },
        "id": "77BsvWfZ8ScV",
        "outputId": "9f7bb235-1cf5-4459-fd4a-9be8b15ba76c"
      },
      "execution_count": 64,
      "outputs": [
        {
          "output_type": "stream",
          "name": "stdout",
          "text": [
            "1\n"
          ]
        }
      ]
    },
    {
      "cell_type": "markdown",
      "metadata": {
        "id": "j-QxZbLj9Enj"
      },
      "source": [
        "Task# 13\n",
        "\n",
        "a. Let’s add “orange” in the Fruit List [‘apple’, ‘banana’, ‘cherry’]?\n",
        "\n"
      ]
    },
    {
      "cell_type": "code",
      "execution_count": 58,
      "metadata": {
        "colab": {
          "base_uri": "https://localhost:8080/"
        },
        "id": "U_AqTWc70KMu",
        "outputId": "de2c72cd-0698-437a-dff8-99805b774891"
      },
      "outputs": [
        {
          "output_type": "execute_result",
          "data": {
            "text/plain": [
              "['apple', 'banana', 'cherry', 'orange']"
            ]
          },
          "metadata": {},
          "execution_count": 58
        }
      ],
      "source": [
        "Fruit_List = [\"apple\", \"banana\", \"cherry\"]\n",
        "\n",
        "updated_Fruit_List = Fruit_List + [\"orange\"]\n",
        "\n",
        "updated_Fruit_List"
      ]
    },
    {
      "cell_type": "markdown",
      "source": [
        "\n",
        "b. Let’s now remove “banana” in the Fruit List [‘apple’, ‘banana’, ‘cherry’,’orange’]?\n"
      ],
      "metadata": {
        "id": "__7u0JSL8NjD"
      }
    },
    {
      "cell_type": "code",
      "source": [
        "del updated_Fruit_List[1]\n",
        "\n",
        "updated_Fruit_List"
      ],
      "metadata": {
        "colab": {
          "base_uri": "https://localhost:8080/"
        },
        "id": "VCfFda7E7DHR",
        "outputId": "56eb3043-af75-44e2-b96a-7b45202ef1fc"
      },
      "execution_count": 59,
      "outputs": [
        {
          "output_type": "execute_result",
          "data": {
            "text/plain": [
              "['apple', 'cherry', 'orange']"
            ]
          },
          "metadata": {},
          "execution_count": 59
        }
      ]
    },
    {
      "cell_type": "markdown",
      "source": [
        "c. Reverse the order of the Fruit List."
      ],
      "metadata": {
        "id": "U87E0xZG8P0I"
      }
    },
    {
      "cell_type": "code",
      "source": [
        "print(updated_Fruit_List[::-1])"
      ],
      "metadata": {
        "colab": {
          "base_uri": "https://localhost:8080/"
        },
        "id": "sEJk70mG8CQ2",
        "outputId": "437bc6a4-0c24-4cc8-a3d2-364a7a3c724e"
      },
      "execution_count": 61,
      "outputs": [
        {
          "output_type": "stream",
          "name": "stdout",
          "text": [
            "['orange', 'cherry', 'apple']\n"
          ]
        }
      ]
    }
  ],
  "metadata": {
    "colab": {
      "provenance": []
    },
    "kernelspec": {
      "display_name": "Python 3",
      "name": "python3"
    },
    "language_info": {
      "name": "python"
    }
  },
  "nbformat": 4,
  "nbformat_minor": 0
}