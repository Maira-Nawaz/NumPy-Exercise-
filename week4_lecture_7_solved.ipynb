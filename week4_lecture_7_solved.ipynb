{
  "nbformat": 4,
  "nbformat_minor": 0,
  "metadata": {
    "colab": {
      "provenance": []
    },
    "kernelspec": {
      "name": "python3",
      "display_name": "Python 3"
    },
    "language_info": {
      "name": "python"
    }
  },
  "cells": [
    {
      "cell_type": "markdown",
      "source": [
        "***COMPARISION OPERATORS***"
      ],
      "metadata": {
        "id": "nZ3n3vbYiT1I"
      }
    },
    {
      "cell_type": "markdown",
      "source": [
        "**Task#1**"
      ],
      "metadata": {
        "id": "--RS3RCgghPA"
      }
    },
    {
      "cell_type": "markdown",
      "source": [
        "Write Python code to check if -5 * 15 is not equal to 75.\n"
      ],
      "metadata": {
        "id": "KrensN1Lid26"
      }
    },
    {
      "cell_type": "code",
      "source": [
        "-5 * 15 !=  75"
      ],
      "metadata": {
        "colab": {
          "base_uri": "https://localhost:8080/"
        },
        "id": "u_Il_H8vqIHd",
        "outputId": "977b7251-79eb-4925-e7b1-c66036c8b5c3"
      },
      "execution_count": 2,
      "outputs": [
        {
          "output_type": "execute_result",
          "data": {
            "text/plain": [
              "True"
            ]
          },
          "metadata": {},
          "execution_count": 2
        }
      ]
    },
    {
      "cell_type": "markdown",
      "source": [
        "Check whether the strings \"pyscript\" and \"PyScript\" are equal"
      ],
      "metadata": {
        "id": "haEhBgAkiwTn"
      }
    },
    {
      "cell_type": "code",
      "source": [
        "\"pyscript\" == \"PyScript\""
      ],
      "metadata": {
        "id": "BB5DbquBhHOF"
      },
      "execution_count": null,
      "outputs": []
    },
    {
      "cell_type": "markdown",
      "source": [
        "What happens if you compare booleans and integers? Write code to see if True\n",
        "and 1 are equal"
      ],
      "metadata": {
        "id": "xL-D7bVOi9uz"
      }
    },
    {
      "cell_type": "code",
      "source": [
        "True == 1"
      ],
      "metadata": {
        "id": "HTIeEMRshS2G"
      },
      "execution_count": null,
      "outputs": []
    },
    {
      "cell_type": "markdown",
      "source": [
        "**Task # 2**"
      ],
      "metadata": {
        "id": "v26aaI7HhZZi"
      }
    },
    {
      "cell_type": "markdown",
      "source": [
        "GREATER THAN, LESS **THAN**"
      ],
      "metadata": {
        "id": "rnPRDJJ0jHDf"
      }
    },
    {
      "cell_type": "markdown",
      "source": [
        "**COMPARING NUMPY ARRAYS**"
      ],
      "metadata": {
        "id": "MfEIH8SMjdAa"
      }
    },
    {
      "cell_type": "code",
      "source": [
        "import numpy as np\n",
        "\n",
        "a = np.array(['ayesha', 'ali', 'Ahmed'])\n",
        "\n",
        "b = np.array(['javed', 'tariq','nawaz'])"
      ],
      "metadata": {
        "id": "3822tbfkgv2x"
      },
      "execution_count": 8,
      "outputs": []
    },
    {
      "cell_type": "code",
      "source": [
        "print(np.greater(a, b))"
      ],
      "metadata": {
        "colab": {
          "base_uri": "https://localhost:8080/"
        },
        "id": "JnyICgORgvsv",
        "outputId": "ef7a77c3-237b-4526-f9e5-0076f1e66ed2"
      },
      "execution_count": 9,
      "outputs": [
        {
          "output_type": "stream",
          "name": "stdout",
          "text": [
            "[False False False]\n"
          ]
        }
      ]
    },
    {
      "cell_type": "code",
      "source": [
        "print(np.greater_equal(a, b))"
      ],
      "metadata": {
        "colab": {
          "base_uri": "https://localhost:8080/"
        },
        "id": "PjmcL5AvhPGD",
        "outputId": "6328f728-48ff-4516-8a9a-1a19f3f27558"
      },
      "execution_count": 10,
      "outputs": [
        {
          "output_type": "stream",
          "name": "stdout",
          "text": [
            "[False False False]\n"
          ]
        }
      ]
    },
    {
      "cell_type": "code",
      "source": [
        "print(np.less(a, b))"
      ],
      "metadata": {
        "colab": {
          "base_uri": "https://localhost:8080/"
        },
        "id": "P6PsK762hS2k",
        "outputId": "ea2d1bb4-9d5f-44c4-c9dc-a4aa3750fd94"
      },
      "execution_count": 11,
      "outputs": [
        {
          "output_type": "stream",
          "name": "stdout",
          "text": [
            "[ True  True  True]\n"
          ]
        }
      ]
    },
    {
      "cell_type": "code",
      "source": [
        "print(np.less_equal(a, b))"
      ],
      "metadata": {
        "colab": {
          "base_uri": "https://localhost:8080/"
        },
        "id": "7aRBKR09hSud",
        "outputId": "4b22135f-6821-44dd-f25e-72a2da5a22bc"
      },
      "execution_count": 12,
      "outputs": [
        {
          "output_type": "stream",
          "name": "stdout",
          "text": [
            "[ True  True  True]\n"
          ]
        }
      ]
    },
    {
      "cell_type": "markdown",
      "source": [
        "**Task # 3**"
      ],
      "metadata": {
        "id": "Op6CbE5sh2lM"
      }
    },
    {
      "cell_type": "markdown",
      "source": [
        "Create a numpy array my_house & your_house with areas for the kitchen, living room, bedroom and bathroom in the same order in the area list provided below\n",
        "\n",
        "\n",
        "\n"
      ],
      "metadata": {
        "id": "CjdZpNuCkAnT"
      }
    },
    {
      "cell_type": "code",
      "source": [
        "my_house = np.array([18.0, 20.0, 10.75, 9.50])\n",
        "\n",
        "your_house = np.array([14.0, 24.0, 14.25, 9.0])"
      ],
      "metadata": {
        "id": "WanZwpNtigp6"
      },
      "execution_count": 13,
      "outputs": []
    },
    {
      "cell_type": "markdown",
      "source": [
        "Using comparison operators, generate boolean arrays to answer the following question:\n",
        "Which areas in my_house are greater than or equal to 18?"
      ],
      "metadata": {
        "id": "Of7lpoRQkO0v"
      }
    },
    {
      "cell_type": "code",
      "source": [
        "print(my_house >= 18)"
      ],
      "metadata": {
        "colab": {
          "base_uri": "https://localhost:8080/"
        },
        "id": "ruPdm2VSiggk",
        "outputId": "0a515dd5-c323-471c-89d2-7ef68d3c4c98"
      },
      "execution_count": 14,
      "outputs": [
        {
          "output_type": "stream",
          "name": "stdout",
          "text": [
            "[ True  True False False]\n"
          ]
        }
      ]
    },
    {
      "cell_type": "markdown",
      "source": [
        "Using comparison operators, generate boolean arrays to answer the following question:\n",
        "Which areas in your_house is less than or equal to 15?\n"
      ],
      "metadata": {
        "id": "DM1bvy8ekXWD"
      }
    },
    {
      "cell_type": "code",
      "source": [
        "print(your_house <= 15)"
      ],
      "metadata": {
        "colab": {
          "base_uri": "https://localhost:8080/"
        },
        "id": "_U7BpWe-igWt",
        "outputId": "82943f7e-5505-4575-f501-5c605d801825"
      },
      "execution_count": 16,
      "outputs": [
        {
          "output_type": "stream",
          "name": "stdout",
          "text": [
            "[ True False  True  True]\n"
          ]
        }
      ]
    },
    {
      "cell_type": "markdown",
      "source": [
        "Compare two Numpy arrays and print which areas in my_house are smaller than the ones in your_house?"
      ],
      "metadata": {
        "id": "GMZzUa-DkjTR"
      }
    },
    {
      "cell_type": "code",
      "source": [
        "print(my_house < your_house)"
      ],
      "metadata": {
        "colab": {
          "base_uri": "https://localhost:8080/"
        },
        "id": "UKXS8zrIi-t-",
        "outputId": "a0397f2f-d538-46a7-c9bd-fa7fc63ee561"
      },
      "execution_count": 17,
      "outputs": [
        {
          "output_type": "stream",
          "name": "stdout",
          "text": [
            "[False  True  True False]\n"
          ]
        }
      ]
    },
    {
      "cell_type": "markdown",
      "source": [
        "**Task # 4**"
      ],
      "metadata": {
        "id": "G8GXyWFyiKRj"
      }
    },
    {
      "cell_type": "markdown",
      "source": [
        "BOOLEAN OPERATORS"
      ],
      "metadata": {
        "id": "Hm_l7ZaPks32"
      }
    },
    {
      "cell_type": "markdown",
      "source": [
        "AND, OR, NOT\n",
        "A boolean is either 1 or 0,True or False.\n",
        "With boolean operators such as and, or and not, you can combine these booleans to perform more\n",
        "advanced queries on your data.\n",
        "In the sample code below,two variables are defined: my_kitchen and your_kitchen,representing areas.\n",
        "# Define variables\n",
        "my_kitchen = 18.0\n",
        "your_kitchen = 14.0\n"
      ],
      "metadata": {
        "id": "KjX7sTJbk2JF"
      }
    },
    {
      "cell_type": "markdown",
      "source": [
        "Write Python expressions, wrapped in a print() function, to check whether my_kitchen is bigger than 10 and smaller\n",
        "than 18"
      ],
      "metadata": {
        "id": "M5LVoB1rk9Pz"
      }
    },
    {
      "cell_type": "code",
      "source": [
        "my_kitchen = 18.0\n",
        "your_kitchen = 14.0\n",
        "\n",
        "print(my_kitchen > 10 and my_kitchen < 18)"
      ],
      "metadata": {
        "colab": {
          "base_uri": "https://localhost:8080/"
        },
        "id": "H5fQ7P7HiVYX",
        "outputId": "08868dd1-7cb2-4d04-ff52-c8027f4de1a7"
      },
      "execution_count": 8,
      "outputs": [
        {
          "output_type": "stream",
          "name": "stdout",
          "text": [
            "False\n"
          ]
        }
      ]
    },
    {
      "cell_type": "markdown",
      "source": [
        "Write Python expressions, wrapped in a print() function, to check whether my_kitchen is smaller than 14 or bigger than 17"
      ],
      "metadata": {
        "id": "EzujcSwqlF6D"
      }
    },
    {
      "cell_type": "code",
      "source": [
        "print(my_kitchen < 14 or my_kitchen > 17)"
      ],
      "metadata": {
        "colab": {
          "base_uri": "https://localhost:8080/"
        },
        "id": "C5WLAUHViVKT",
        "outputId": "dbeb985d-2fe6-495a-e65e-18b78412c6c5"
      },
      "execution_count": 9,
      "outputs": [
        {
          "output_type": "stream",
          "name": "stdout",
          "text": [
            "True\n"
          ]
        }
      ]
    },
    {
      "cell_type": "markdown",
      "source": [
        "Write Python expressions, wrapped in a print() function, to check whether: double the area of\n",
        "my_kitchen is smaller than triple the area of your_kitchen."
      ],
      "metadata": {
        "id": "W9LK5HpklNop"
      }
    },
    {
      "cell_type": "code",
      "source": [
        "my_kitchen = 18.0\n",
        "your_kitchen = 14.0\n",
        "\n",
        "print((my_kitchen * 2) < (my_kitchen * 3))"
      ],
      "metadata": {
        "colab": {
          "base_uri": "https://localhost:8080/"
        },
        "id": "I3W6UbyplybO",
        "outputId": "30392480-0a6b-4ef7-fff6-dc4aa7bd053d"
      },
      "execution_count": 10,
      "outputs": [
        {
          "output_type": "stream",
          "name": "stdout",
          "text": [
            "True\n"
          ]
        }
      ]
    },
    {
      "cell_type": "markdown",
      "source": [
        "BOOLEAN OPERATORS WITH NUMPY"
      ],
      "metadata": {
        "id": "kGWPq5rjlad0"
      }
    },
    {
      "cell_type": "markdown",
      "source": [
        "![image.png](data:image/png;base64,iVBORw0KGgoAAAANSUhEUgAAAkcAAAHkCAYAAAA0I4sqAAAAAXNSR0IArs4c6QAAAARnQU1BAACxjwv8YQUAAAAJcEhZcwAAFiUAABYlAUlSJPAAAKBISURBVHhe7Z0J3JVj/v+vUGlBi5KSlJKkIkKJiBCNDH7MZPCbJoxlGEwTwzC2wTSyJkyaf5ZsmcGEZrJlKEul0JD6hVJSWmihQv/e38515uruvs/2nGf/vF+v+/Wccy/Xvnyu7/c6z12jdevWG5wQQgghhDC2Sv0VQgghhBAbkTgSQgghhAiQOBJCCCGECJA4EkIIIYQIkDgSQgghhAiQOBJCCCGECJA4EkIIIYQIkDgSQgghhAjQP4GsRuy4446ufv36rkaNGqkzJWfDhg1u1apV7ssvv0ydiafQuHMNvzQpz3ITQghR9shyVE1ggt9uu+2KOsED4REu4SdRkrhzCb80Kc9yE0IIUT5IHFUTsHyUJpnCL0bcpZ3+JMqz3IQQQpQPieJo//33d0899ZQ755xzUmdKBuFMmDDBHXvssakzufPYY4+5K6+8MvWt6kNZUfbUQVhud999tx2FUGzLR5RM4Rcj7tJOf1J7L89y85Sk3oG2Qx8ij2UJ8T777LN59/kwv/wl7aVBsccV8klfjRszcy0Lrk+cONG99NJL7oQTTkid3TQmcD4u7ELxcb399tt2vP76627YsGGubt26qTsqH1VlrqCe/Rwgyocysxzde++9rk+fPu65555Lnanc0AFLa9AOqYjl9vvf/94OkRtMOL/85S9T38qXYi96SpvzzjvPnXrqqalvJaO0+yx9lL5Kn4WSTNT16tVzJ554YpkIlRkzZrirr77avfHGG+6ggw5yF1xwQeqKKCsqW7+sDsitJoQQFYylS5e6Nm3auJ///OepM6XHunXrTNg9/vjj7quvvnK77bZb6ooQ1ZeCxBGrIW+KnTRp0mZqFzO4v/bggw+mTclRM2EYBvdwPnwWc282EzSwOouGA4R1//3327m48MLnvAnfp5GD+1lB+ec5/KqTtPfv398GL59/4o27F/hMWriXuOLynkS03DyEE5Z9XH4yceihh7rRo0fbgMjhLUE333yzu+6669LnvcUjvL9Tp052rlCwBIwZM8bCIkzC5rjnnnssfs5zPR+LAXn2+Q/rmnLBcuPdB2G9hPXA51wgTYRHWkknf/fee2+7xnnOcVCePp+77LKL69279xb3JxG6O/jLxm1PtnYWl1cmPl+W11xzjWvRooUbNGjQZs8CZeDP+Xh8udDO6M/+M23Pp8HfQ7p5hvu4fvjhh9t58HmKxgmZ8ku9+vbMs2E/8ud8OsJ2H9Ytabrtttu26LMengvTxbXoFoBcysbnn7/cS1zEyTk+w5FHHplOl38+jnnz5rn58+ebJSra33x5+fyG333a/v73v1sa3nzzTTd27Fh36aWXuldffdW99dZbVoa77rqrPRtH7dq17RnC8PfdcMMN7sUXX3RHH320fffccccd5o4jP//+97/d7373OztP3C+88IJ7/vnnLT20O8r9iSeesL/k/aqrrrI08SznaLu0mX/+85+WRg+fn3nmGbMiEhZ54LjssstSd2xOo0aN0u2J+/3YGe07Yfnz2Z/3z1Ce/hzhUc6cDy084fek8DPFC1xP6pfnnnuuPRNts9zjw/PtICkenuN5zvl8iOzkLY4ocDosZthu3brZ5HbyySdbgXOtY8eO6WsrV66M3XBKZfXq1St933HHHeemTJlijZ/vHDNnznT9+vVLPRGPb0T+mU8//dQNHjzYzkGHDh2sU/nwzjzzTDvPc++9956dp/E1b9483fCaNm1qaSF9d911l6XN38egwX3XX3+9e/rpp93cuXNdjx493NSpU61xE79PC/hGC82aNXMXXnihGzVqlDXikSNH2n0+7/lAObdq1crCw4SfKT9JMChRHqeccorlk46JQKlZs6Zr0qSJu/baa23fwx577GGT+YABA9zkyZPtfuIqFMLq2bOnlR9hzZkzJ723ok6dOvbzds5/8MEHFneuZGo7++23n4ku2hsDJ2XDQTv29UAdUPe5QF1Onz7dymj9+vXW5r2I9OXpV9+U22effWZlyTXue//99+1aHLSN888/3/JAuki3n6D8IJqpncXl1UMeOb9gwQLLd1R8LlmyxNo48RBOrVq1XPv27e1aly5drD8THnmi3xM/4dFXfDz0d+6jX7z88st2rkGDBpYnBEc0zkz5jcP3I+o7qd1zRMeXX//615v1We/6gnHjxlm6/aRBXmfPnr2ZKzuXsgkhn8RFnMTPZ+Kgn5Emznfv3t3Ci+OHH36weyg72k2+7LDDDjZR/utf/0qL85tuusm98847lu7DDjssdecmaPvHH3+823777e2eWbNmucaNG5ubba+99rJ+Sx4QLiGMfb/97W8tjwi6gw8+2O2zzz52DZfg+PHj7drChQvtHPmifhhDP/zwQxNd1BViZ99997VyJZyWLVu6Qw45xMQkYx31zPfvvvvOnXXWWe6AAw6w/MTh+wDlzHgycOBAK2fGTT8f0DYof+o8rr0UMh8dc8wxFp9/hjxmiteT1C+pk7Vr19pzjDfUISS1+7j4Od+3b1/rM5yjD/p5UGQmb3FERVDAfuBgkFm2bJnr2rWrXaMR+WsMOlRWlLjBB2gwXvFTkXTOJPygwiDtiQ5yNCg/CPprWIP4y4qOeEaMGGEDFoIAFi9ebB3aQ8OOuy+ERkw+ET4eJkPKw6cTYUEn4KDBM8GEHSRX2rVrZ52LzkRYhJ8pP5nwlg7KBGHiodyYwJcvX25iqXPnzm7NmjXutddeS91ROAgJoJ0A9Q0M4N988036O9YrjlzJ1HZ8e+WgrVI2HKTBtw/qnLrPBVwelAVlhDhq2LChCbmPPvrIriM8P/nkEzufL9G2RJp9WeXSzuLymitMdMDkQh9lAGayImysOexNiZYb8dCXuR9IH33Nw/MM0LR/BusomfIbh+9Hmdp90viSBPeRBsYwwqU8yWtILmWTDeLw49W0adPsL/lP4tFHH7X7ECiZxsI4EHMPPPCAlRfjDUKEfBLe999/v1l/p78gpI444ggTKdQFbZi2TV59WWMhioJ4GzJkiHvyySdtbIJtttnG/jJ+RJ+h3DiAsQWhQ99DsG611VZu6623tme23XZbK2vqhP8JRnpYZOy0007uiiuusAk+aT9WOD/5/kEZ0h+xzNBeWGTwHRGW1F7ymY+AMie8cLFC/SbFmw3GI98vaF+I89NOOy2x3cfFz3mucx/38xzPU6ciM0Xdc0Tj8SuETMTdR0O8+OKLzQ1BQ2TVVFrQ6b3FwB9xAzfCCCGCOuceVk7FgJUBKxsGFQalfBoqAzJHOKjmmp8QLBgMLlg/sHQgTJLAAsFAVlEppO0wYFZEGNwYBMsDRAf9ksmCNoZbhP0orEj57gVCISSVd0nym9Tucx2HQphEsagwIWMFCi1LUJplkwlEB/nEIuN/2Ui8nMsHhEoSTLyMdSzY6EcshLAQMd5hNUKgIOwQTiFM1GwaZ5Fw0kknWRnlCu6z//3f/7WFBn+xrHioC4QB7kSORYsWWXpYEDLJI+4YkxEa+UAevHWIw1sQizUfERZhAkKEMoWkeAslqd0nxU89hvd6y5jITN7iiEaEO4LGA6wKmTxZkbAiCE3FmCFRqVG4LwwDvJLGzw7Z9rX4yg1NhMRHQ/QrAMyxYVq4hhBgJeVNlJlgQOcZ4iKtmPTjoCOTT8y3HsKnrJIaIWlkHwANnQE5V1hVs5pBWJEmws81P1EYBBnYGADDlWQULBAIKaw+CDvclYXy+eefp8MCzNnAqrBQ8m07wITASte3QSa5TKv4bDD5eDcg7kncan5C4m+uFhwmWYQo6QHS58uqkHaWL5SLFzK0Udwr1BGTGHGwOiU99HsgfZRjkuWEiZxBm74Yrmg9mfKbiUztPm58yQbpQOTg8iXPcWQrm9IAK8orr7xiE7i3yPBf1ck7FgHyiXAqiaCmjrwYCiFuLEO4yRgn/vOf/6SubIK2iLVnxYoVdk/r1q1TV7LDeEN5swGc+QPrtAe3GuXZtm1b69vsmwLGKyxv7B+jzLE2xxH2f98/+CUexLnG8pmPfLtDJANjd9RCjDsOMcUz3hqdzSWXK7S5bON9GD/9lXnL91eROxnFEYOWNwdyMLihUJmgUe2cQ5yweY/BgmuICW/Cw9zM9yjRMLCeMDgxCftzuTB06FDroNzPwQDMOQ/Cgw2D0WvR5xAbcQMp7gEaFvcgRsK8IAa5xkY3Osjw4cNtUPdhAo00CmLNb5qjnOi4+a4iKD9Mx5QVq4Nc8xPCQMeA+/jjj1u6GWySePfddy1cVoeEmzQRkpa4CTAE8zj7IDDvEjcDfOgmygRlh789mjfKL9+2wzOY0v0zhO0HskLwLkDyhJuSMEkr4G5DUHIt24ZsBl9W0eSRMGh3TBb+Wq7tLAnCoM3FbcgGL1ZwC4J3//g6p9xoe6GbgPaWqQ0zebJypg9GLaWZ8puNpHYfN74QZ9hno5MF6aAPMFGHbvWQbGUThUmXdk78fkN2IeBe+/jjj1PfNrm9yStppd0hyvO1JOUCFhzqDksN/TYK7YD9b+w5Za9nJutUFAQf5cZCAvd+dM8WwgwR8PXXX1te4aGHHjLr1Z133mnfH3nkEfsbh28TQP+I6zu+XeQ7H1EuiEHOk3c/LzD++bARWwi5TPGGZOuXIUntPi7+aH/lyDZGi02U6rvVGIDYDEbjo/LLEt8A8pk4qjL5rOoK5Ve/+pWtbKITZbHiRmBgxqejlxVlUW7hxCfKD40Zm8PG+Ntvv90m/9NPPz11tmxg8zW/+ERgYmEXoqwp6p6jKMU2+YuKC9YQrEDeDF0asPcBF4AQxYaVdyb3YHUDVzteAdxqcVaj0gSrCosg9lh5q5EQZU1RLUdYiuhQmJ4BH3b0p7tlhVaBm8MemNJ8FQa/KPHuhijFiDtT+KVJeZabKBsYK9ioyj4NrNxi08/F2XeDOMF1x36fsgBhhCuLLRm4W//85z+nrghRtpSqW01UHPzb5UsL9gywUTSOYsSdKfzSpDzLTQghRPlQqm41UXFgAmYixlJRTAgv2wRfkrhzCb80Kc9yE0IIUT7IciSEEEIIESDLkRBCCCFEgMSREEIIIUSAxJEQQgghRIDEkRBCCCFEgMSREEIIIUSAxJEQQgghRIDEUSnAf9z1/6E7H3gm20sHiwUvKUyKi/90zss5/QsNywvi5iWNJU0DeY172SMQNi9mLMlbq4uVzkxQV+SjEDLlvzJA3gvpT5WVQsePigZ9ir5Vmv2iLCnGWJEPxMcYHG0LxP/ggw+mvpUcH49/MW15j/sVhQopjhjEn3rqqTJrhBUFXnVSXq9bCeGdeM8995zr1auX/a3M0JY4eBVB3Dv+yB9vsM70VvnKDq/E4OWhxxxzTOpM5YI+UVlfA1QSUVueZFo85Qp9ir5VmceQsP7KY6yg3/JG/9KeC4nn6quvttfoIADPP//8SruYKhayHIkqzX777Wf/iboqi59c4O3mnTp1Sn0TQlQWpk6dagvWsmLatGn2t2nTpva3upJRHKFWca94c5tX0JjcMNMPGzYsfS00/YXPhSY6VPj9999v17if8PzznOM51CovHuQN74MGDUqvXuLuBf5iZeIgrgsuuMDS5u/1aQ4hbn89TB/nMVdyzsfLX39v1LzpCc2S/A3fxUV+4tIT5se7PAjfxxE+R34pN58m7uG7v+6fh6T4ouG1bt3azkchjjZt2rj+/fvnXfZRUyzp9M/5sOLSF5YfR1w5J93DecKj3sK0ebp06WLiCJLi5hx//eewXfvygzA/xOefixKWF/f4uvEQji8P8OV42mmnbZa+8B6Pv9eHGfedcuD5sE4Y8OrXrx+b3qRnstU7bZBrpHnAgAHp+vHpjitPX2/RugjzyudwnOC7r4ewDvwz2cIi/mjaIC6sJDKFE5Yfh08r9/i+RPqi7SCa7rCthRCOv8eXX651AEn1S1hx4wjpIM2kPaz3EML36eV66D4jXK75NPowiSOMB5LOh0TLKcwbn8N6CcOIPheml3Rx8Nzll1+efp7DlzFhh/Xn5xafz7Bcw/Dj2n14zceVVLZRsHjTd30YIZwLyyP8Hq1fXy/RNCURbbekvSzdiuVNojiiAOhso0ePdpjaMLnhZvEFQ2UhYPy1du3a2TWOvn37ugsvvNCuUZi8qd/TrFkzu4aZHHM/93Bgsuy9UR3TEAhvwYIFbuTIkWZSpxIxZ3qzH2k6+eST040UhctzpK9BgwZmIvThxr1lm7j99ZkzZ7p+/fqlrji36667uptvvtnipZGx4ua+c8891zVv3nyLhkHDwQRJONzHs4Thr5F2XDpcI/3du3e3TsY18sf54447bguXz+DBg9P5oLwot5AOHTpYuKQLcJkkxUc5ZQvPQ77nzp1rbyjPt+xD8znXW7VqlX6OsIB0fPrpp3aOg/rhOZ7nO/fznA/fk+ke2iICqEePHltYiBo3buwWLlxonymjbG0jbNeUAeXnyxXzts8P8XFvFO7DQuPjIK8DBw5MXd3EuHHj7FmffgQcaXz44YetLfAc9Vq7du0t2lsmMvW9xYsXu/Xr19ub1kNIA/Xp+7mvx1zqfe3atXaNMiVu2j73N2rUKJ3upHGCNpMpr+E44SHuaJuiblhMhW0K/AQHWA+jaYsLKxtx4XAkjZNhX4r28Ux9NSTTGJRLHXBkGo/jxhH6BWkm7XF9CpYuXWppAdovdO3a1fLF+SVLltg5aN++vZ2Pjne59JV86pdrlANhZCvfcNy68cYbY8eWaP3x2UO55jo/huMIc42fK5LKNsqKFSssH4QfbR/Z8PVL+hi/fHmHaYpCGinHv/zlLzZmUL5A/S5btqzaWOETxVGTJk2sEn1BMGDOnj073REoPBoGhNd4jkYxYsQIU6eoTxqKr4TJkyenBwnOeVUbvS+EzkanJh4gTVQSlQUM/OPHj7fPdEomgLDzRKGBefVOQ2EC9ZBn4iEdpId0cR/5IV/kL4RORlmMGjXKvvMsYQDXGjZsaBYwwqCT850Gx6BG54pr7MTNZPHSSy/Zd8qLcguZPn26lQPXGDgoo6T4DjzwQHvG11dceEnkU/YhnIfQd01eKVPEQRTqK0xzdBKHpHso/7gwo+TSNsJ2HZqXKQffNoD4uDcK97HaJJ0c0fYFhMGzfjLhuk8/AzrPJbW3TGTre3EkDXi51Ltv80yUvmw4v3r1ajsPYXlyPRxDMuU1HCc8cW0q2v+AfkP6/T0+HxzkgXjiwspGXDgcmcbJJJL6atjuSVemMSiXOuDeTG0ibhyJwr1+nOag3mbMmGH30qdpvwg4vpMvxjZcQZ5Zs2bFjnfcn62v5FO/4K8ddNBBGcuXMgrHrVzGn5Bs9R62+3AcYRFEPinDfCAewg8X8rng65f8Ll++PD2nMBYyD3loE+SdMkAcDh061NoE6fV5QlhRz9WFUtlzhMKmAfgjumoCGjaVwSDIPawqwsoqFBoCihyo6GgjpHNefPHFbsyYMRYvCjoJ0uNXO/6IWhvoRAiZJOgkqHb/vF8tsCphtTNkyJDNTJdAJ6pZs6abP39+6kzuxMX35ptvWuMvS6hv6p1Vyx133GErYMqKMvUTk4eBiUGR9LKCjV6HXO7JRra2kQni9haobBC2L3+OOKuE3wPkN0kzuJIeVnPkj+fClWqu5NL3QphImFjLmkLyGtemCqWYYRVK0tgQkssYlI1820QUX1Zh/F78IJaxor7wwgvWRw4++GBrT9Hwk8a7XPpKoeRSvlCMsSVXKDvioe/n6lbzsIDC8oolrtiEZRW2D+KkbBC2ELcQrqokiiOUZbhLHlFBxbBiACZbv4oMr/EcJvFslY4AqFWrlt0PqFMEQRxMSpj4/aqDsDEbe0UeB+Z4hA+NMMSvCLzwiF730DhY7eDqywSDBOn2kxxppNzAd7Iktc+EeOmll9oA6E2XwHkaq3+OgYSJJBtJ8RUaHhRS9iEMRgwItBfKiSNqOqfz+QmacmDlFiWXe+LgGQRASFLbyARiJjRDU5ZxgpPyov59eSXhBxnC86s50kk90fZ4Ps71SbutV69eur2E/SZT30sS3PTZsJ97SlrvnqRxIpe8JhG2KSwP/A3bFH2W9Ecn6DjCsLLVWRzZxskkso0NkOsYlIlcx+N8IW2UMX3ok08+sTFm3bp17oADDkjMe3S8y6WvUE7Z6jfsx/7aG2+8Yd8zla+nkLGl0Hr3IAKx6tB/WSjkIs4pPzwevu8D6aBf+jLMZ0zLBV+vRxxxRKzorcokiiMGDcyVoVmSivHKm4GNySJ6LfocR5wbg0LHTOjvY7Ck04DveFyj0TB4YcL0Zj985mPHjrUwotDQfLwM7t606SF9mMR9WJnAtEjH9OGRx2hHJq2sPjnPPayM5s2bl742fPhw60Q+DFZN4cZbzN3k1Zerh3T751jZLlq0KHUlmaT4mIALCQ/yKfsQysO7LnkWC+Fdd921RfqoL8TBPvvsY9/Z10LbipLLPXFQtgx+kK1tZIJyIE7vnmDTfVwaouXFQbxRqCsGGwSLX4WzSmMi4xnaUVz4mfpNpr6HQCG8aL1Fn/FtvNB6j0KcceNELnmNkmubgnCvUhxxYTERM95wLVei5RfmERDVuLKi1uFMfTUklzEoE5naRCYQwdRPJusGQiAUzLjPmEhDlxpg6Ygb73LpK3HlBNH6jV7LtXwh09gS1h9C3JOt3pOg7H16cF+F7sJcYFFF+jAsAPHlOp8VCvXatm3btOu/ulCjdevWG1Kfc4bOia+expfvYCkKww9o2QZ9sTkMhgy4zz//fNaBKx+YMNjoygDPQFzRYdJnoCe9ZUVlGydI74knnmgTnqgclEe7rm4wfmKRKqbLszJQKnuORHFh0M7HZCv+C8KF4/jjj49dNRZKPq6b8obBDetDddovUAhY17B8CCE2wZiJ5RcBWt2QOKqghObXXE22Ih5WlfluQo2CpSj8nyZQWax4xch/dYBykmVWiE2wqMINyq8Yq6NlriC3mhBCCCFEVUWWIyGEEEKIAIkjIYQQQogAiSMhhBBCiACJIyGEEEKIAIkjIYQQQogAiSMhhBBCiACJIyGEEEKIAIkjIYQQQoiAchVHvBcnl5cgFgviS3r5YGWDd1b96U9/2uxliIVQjDLhvTu33367vVA3X/x/no6+cLIiQhqvuuoqV7du3dSZsoE6qgzlU5nglTy0e/6WJ4x/1K8QomJRruKIF9lVt3/Xv9dee7m//vWv7uGHH06dKYzOnTvbm6R5s3N5s8cee1h6unTpkjpT+YnW06677pou8912283OlRYIoZJOmBVVUJVXuhD/Tz31VOIb5suKaN0y/lWlF3pWlHIWoqTIrVbGYHVo2rSp22abbVJnCoPB56ijjnIvv/xy6kz58eSTT7rDDz/c/fa3v02dqfxE62nevHnulFNOsbe2/+c//7FzQgghqiaJ71bD3IzrZtmyZW733Xd3o0ePdlOnTrWXoDJpwNNPP20vpGO14M+vX7/effDBB/YWcFZErJJ4o69/cV34Pfp51apVrkOHDm769Om2ouKcdxvxsk/Oka4hQ4bY5EVcpCv6QtaLL77Y9evXz22//fbu66+/dmPHjrUX6BEe6br66qvdhg0b3EUXXWRWD2DCu/XWW12PHj3cmWee6d555x235557unr16pnbh0nygAMOcN9//73lG5fWfvvtlzEMyoG36W+77bbu/fffd3//+9/dL3/5y3T5rVmzxt18883uueees+/w61//2p100knuoYcesnw9+OCDbuedd3Y33XST23rrrU2A/POf/7S4fV6aN29uYqlJkyYWxt/+9jd3xx13uMsvv9wddthhrnbt2u7LL790999/vwmZkLBMSL9/hjR/++237pVXXnE33nija9asmRs8eLDbd9997TnEAue8ZYX8kg/qsm/fvm7QoEGuRYsW7ocffnAvvvii1ekvfvELt+OOO9r9vMzwtttuc3vvvfdmz4aE5bvVVltZW6Q8iJMVOG1h5syZVk/kkTImjLlz58a2Af8SX+rSh/f4449vka5x48aZEArr6YknnrB80UZp17mk7cMPP7S0cX3y5MnuiiuucEceeeQWdUXdeni2f//+9tm37969e7sFCxZYnLR78kcawn4H/nzYbxYvXmx1G33pbNI9uHkoS+qWcKNtNK5Pkh/KBho2bJguq1zSBXFjSpS4cqF/+LiXLl1qlr24MSGunLiH8W3WrFnukEMOsfNh3GF8SWUYDdc/Hy1D//wxxxyzRR68tdWPd7mMgSFJbSBu/KYdheEvXLhwi/TQLnkLu88v4dCX6D9hmYbjMJC2UaNGxaYlJCm9QF7j2jlQz4wTNWvW3KxNZisfIQolo+WISXPlypU22SOMGDCeeeYZ161bN+s8dCI6CZMmnY7zF154oQ0KhcBzPO8HBYQTYZ577rlpAcCEx4TIedIVFUZ0IO7BtMubyOfMmeNOOOEEd/DBB6fucDbxM7HR0c466ywTErhKfvKTn6TucK5x48YmCj7++GN7lsGOPDPR8t1PjpnCYGK+7rrrbGJs37695Y8wGCzp+L169dpMGAET/Nq1a82Nw6BNOhBFDHAMaog6RFfIT3/6U/fdd99ZOhBwTLYXXHCBO+igg9zw4cNt8qceuY9wk7j00kvdEUcc4V599VUL64033rABdeDAge7000+3vUX/+Mc/bLAkvDjrF/dQT3Xq1DHxg/hAYCLOEHzUzciRI03wkf8kSOcll1zidtllFxO2l112mcV5xhlnpOuSskd4IBiZmBAi5DWpDXTs2NGeq1WrlrnMGHjj0oWoi9YTZeHJJW2UDcKQPUofffSRueOoz7i6CmFyJS/EG7Zv2hsTAulq1KiRlTGTF/nzfYQ2ynnyxfOEE/c2fvoW8BwHgpA+7KGd+X5OX6M8IalPApMd8VBWd911V07pgqQxJYR7+vTpY9e5j0n85JNPTt9H3PQZrjHp02ZDSBfPMvFSx37CZXyjrnmONBE3kzfx0Y45z0H50AdC/H1JafdlSP4BYZRUtyG5jIEhSW0AwvHbxxWGT3p8HhmHKLfx48ebUKK9QdeuXU1gRdPK/dS1zzvufeohrpw9XhhRnj5eCPedxrVzypT6pt55xo+buZSPEIWSURwheFhFAw2fVSEWAb8C5/uBBx5o12m4QGdFDBQCz/E8nYiOzaqGuJiAGMRY1bDaoTMwMMXBs4gSJio2XNK5EUM77LBD6o5N+3Vatmzp2rZta6sdJvvtttvO8uNBpLzwwgs2OTBYvP7662axQSwx8ZHvbGHMmDHDTZgwwSwyiJrwmod8kEcO0ou1ZtGiRRYukzmrJAYnLBQIJAY7wg357LPP3E477WSWCSYyVl1YeBo0aGCCh/SxukKw+BVbHOyzWbJkiVk/mGQY3FevXm3nER6szrF+UU9vvfWWlUsU4mVQw+L06KOPuvvuu8/qlLaE6+2RRx6xiYZBHGGTBJMLgx0WPNrWSy+9ZHVA3rA2ARPixIkTLT3UzfLly62Mk9oA9QOInjFjxtjnfNMFuaQNAUSd0oYQRwg56iiurnKBdsSEwEF78JYn337CPpIJygZ8fwX6OP3NT+zUvZ8M/TXEdlKfBMqUidWTS7qSxhT6VQhl7fMPpI0yoF6BuGnjQN+gDn0+M0Hd+3KYNm2a/SVNxEd/IU0cjDcsUkKypd2XIW0fMUCYuZDLGBglqazD8dvjwwfioH/wLPEQHzDGeosWIhEBEgeiJi7vSVBmpMnXFdB3KBtfX3HtPE6g5VM+QhRCXnuOaNgoegYLDlYkb775ZrpTFRMmXlYfPi4OVjp+tUOnxd0Vt1L46quvzD3kn/MrjShYSPw9HEkmWVxpWBjiyDUMJlwsFlHC1RsrwNdee81M/Qw2DFAM/LhnsFZgqUBo4dIKoU4YHEgnKygGK2CQYwIOw/cDYxJYO6jnEMIl/eE1vteoUcM+hzAxwbp16+wv4g4hwmqV9LMqvPbaa+18LiAWQxCZpAP4669jXQtFTVwbCK0/nkLTBZnSFoW0IU6T6qoQmBSxVhAOecQiUZok9cko+aQrbkyJWinKAyZcnyaOqBUESjvtuZR3oW0AcUHbQyzxHPH4xQ6CCjE4YMAA+x6KXg/CiHt4lrgZp0oLxBMLsyi5tkchCiFnceQbP+6HEEQHg4Q/T6ejs3po1AgZYGWai8uNCRyrQNQ8HsJgxeos+gsphAWrcfbtsPrDHMs+oBBWcqQLKwc/P+c+OtXPf/7z1B3ZKTQMyhHhgIjw5RKFPGCdwkKB1QExhDUGywfXojChswLGjUWamOwZJLFQkDZWVGeffXbWgQMRRv0gOHEDHX/88WZxeffddy2/rMp+9rOfmdDgiHOrId6++eYb2yyOi5G9O1ivCIc6JX09e/a075nAdYgFjbaEwKMt4LLCrYnFBggDqw+WLdKKdRAXWi5twJOUrkz1lEvakoirq0Jh0qDv0V/y6VtAuj30XcLxCwhcJH4l76/hKsvWJz25pitpTImCyMet5i1btE/6g7f2FBviw2rr44sj17QXSi5jIBTSBgArDos1LMXAOIp1E2gHtH1c7LRR32ZCEEZcA1xhLOayQZmxkA5dlOSP8o6Lw4M1kPoIF8KZygfB6F3HQhRKzuKIxsj+FRopqyoOTLIMogz2/jx7b5g4PKxC6LBcYwMfHTkXhg4dah3Jx4X7hM7vTbkcDOKhiRb4zgZg3Bt0ECwDdKKQL774wrE5ecWKFbZvCMsG93M+VwoNA6GDqKNMKKujjz46deW/4NLDfYZrhs8IDiwN5IPPUdgzg5vrzjvvtO+4iEgbZYR4wBWGmCStmcCigSWQDdl/+ctfrG6pYz5TlvPnz7e9O4gs0udXmiG4l3ClYUVhXw4bzHHv8as6JjTaEGItWidRKKd77rnHBmBWpuzNYfD2bjqgfBikqXPyiWWIZ3JpA56kdEXrif1BnlzSlkRcXUVh0ifeJMuoJ1PfwhWCy8H30ZBo36Ifcc5DvZLn6LWkPhkl13RB0pgSQnvDvY2lg3sQdmwQjrMGJ0G9MAnjBss2cUbj42DCDck0HmYi17qFXMq70PGVsps9e3baLYjICvszCwxc+4QfB+4wFlA8y+LDx5upnOPKDJKs7R6scbjbfFp9OeTaHoUohMRfq5UEBhJW23GmaFE1YBM01hqEMeKprKGNMRASf0Vww1QV/ObYbBOWqNpoDBfVnbz2HInqC+5CXEH84gp3GdYl9vVkcyMJISoXWL9wGSdtxBaiOiBxJHKCvTKYw2+55RZzl7EnAfdVNjeSEKLygMUI9zp7DLPtURSiKlMqbjUhhBBCiMqKLEdCCCGEEAESR0IIIYQQARJHQgghhBABEkdCCCGEEAESR0IIIYQQARJHQgghhBABEkdCCCGEEAESR0IIIYQQARJHQgghhBABEkdCCCGEEAESR0IIIYQQARJHQgghhBABEkdCCCGEEAESR0IIIYQQARJHQgghhBABEkdCCCGEEAESR0IIIYQQARJHQgghhBABEkdCCCGEEAESR0IIIYQQARJHQgghhBABseKobt267rHHHnNvvPGG+/Wvf506u4kHH3zQvf322+7OO+9MndnE/fffn77/yiuvtHv4WyxIz8SJE92xxx6bOlN8br/9dvfqq6+6s846K3WmMPbff3/37LPP2sHnJJo2bequvfZa98ILL7i33nrLjhdffNHOca06c84557hJkyZZOwqPu+++O3VHMtF65BnCIkwhhBAiG7HiaM2aNW7OnDlu6623drvvvnvq7KZJv1GjRvZ5l112cbvuuqt93muvvdyOO+7ovv32W/d///d/dq4yst1227mttiobY1qbNm3crbfe6o455hhXs2ZNN3fuXDu22WYbO8c17ilvSMeECRPKTVh88skn7rnnnksfCPBslGU9CiGEqHokziDz5s1z69evd82aNTNLEiCCdthhB/f999/bBLTHHnvY+bZt27qGDRu65cuXuxkzZti5ysjAgQNdz5493V/+8pfUmdLj9NNPt3JDTF5wwQXuJz/5iR185hzXuKe8ad68uatXr17qW9mzZMkSd/XVV6ePBx54IHUlmbKsRyGEEFWPRHH0n//8x61atcpET48ePexc+/bt7S9Wpfr167u9997bvmPhqFWrllk+EFUeBNTYsWPNXYRb48YbbzShdcstt5iLhL+eI4880txLzzzzjOvUqVPqbG4Q5m9+85u0ewrrwlNPPeVOOumk1B2bXFi33Xabe/311+0erBAPP/ywpcO7/+LcLxdddJEbP3582u31+OOPm0g85ZRTLA7iIgzcYRdffHHqqczwfNeuXd3atWvdk08+6d57773UFWef//GPf7h169a5ffbZx6xz3k1J+T3xxBPp8sS1GVqXzjzzzHRaSRdCYr/99rNrPgwEA2n1LsqrrrpqM7fe3/72N9e3b9+0a5DwsWwNGjQo7SbMpbx9WRLfv//9b3u2T58+bujQoebyIi3UxXXXXZd6IncIZ8yYMRY+4RA+4XgRn8mNdtppp1n81L23fAohhBAhieKICeeLL76wCQfXGn+xZnz11Vdu2rRp7ocffnAtW7a0e73rbf78+fbXg6jifiaqDRs2uIMPPtgm5MmTJ7tvvvnGJl4/QSG0EFyIg1As5MKll17qTj75ZEsTLiAmTMTQueee64466ii751e/+pXr3r27W716td3z+eefb+YyjOO8884zEVSnTh3LA8+RbsqiXbt2JmCYZB955BFz4/Tr188dffTRqaeTody23357t3TpUhMXUT766CP39ddfm8WmVatWqbPOyo/zpAPheuCBB7pf/OIXdo39NWeffbYJLvZ/UX/UF+LOiwbA2vfoo4+6Xr16mUDkntmzZ7u77rrL8oilCAGxcuVKE1FYbrAUUqZ8X7x4cU7lDYgq6vfPf/6zO+6449xhhx3mDj30UPfxxx+74cOHu5kzZ1o55Mtuu+3mtt12WxPS9913n9Vp7969ra6EEEKIkpJxYwaTNHtgmOAQOo0bN3aLFi2yyZDJmfNMirje+P7++++nntzErFmzTJSwSfvdd9+1CY3JmUkZcUJ4BxxwgN2LtQix8c4779j3XOG5bt262QSJJeqKK66wOF955RWbeBEBWGCw1JDG8B6sY0lg3UHoIAxGjBhheeA5rDNTpkxxN9xwg03GWG+GDRvmPvzwQxNRTNzZYC8XYor8hpY2D+GT1tq1a5v1zUN9kG7SgShgjxfpxKJHPvmO1eTee+81F9SCBQtM7HjLHyBIQnfTGWecYaIGKxMiD9co1kLiJV+IJEQQ7lK+41bNVt4eBPFrr73mnn76aftOuJyjLfy///f/TMyF1sM4iIv2xuGtQaT/xBNPdDfddJN9RmxjuWQfXDYQswg0BGBc2QshhBAZxRHihgkXCw+WEiwQbJCdOnVqehJl8zB/sYIweYVwL5u7gYm6Ro0aJgo4hwhiQuvQoYNZRJjYEEwIp3zACsOE/eWXX7p//vOfqbPOffrpp+67776ztCEQsEotW7bMLCpAGnADJoHIadCggVnPsFBEwQqFm444CdO7r/KB/Me5dnBdkV7SSLl6wvLkM8KFMLiffCJOrr/+ehMSuM3IA9Yb7vEsXLgw9WkTiAR+gYhViM3XbKzPRC7l7eE7liYPdY7YPPXUU61Mzz//fAsnE+GGbFyGiFAEMeIUVx0uMqxSQgghRLHIajliAsbC07lzZ5vsEExM0Ow7QixhkeEv3/3EnQveOoLVg8kOFxKTZz5h5AsWkDB8LD3ZiD4DpHfIkCFm9aKMcGNhDckVJvwVK1ZsZjkLwbqG0MGFluRi9NanEIQUlphwAzMigrKOAysYViMsf+z/weIUirFig5WHvU9Yocg78bOPKhPhhmz+xQHCb/Dgwe6II44wKyYuQoSdEEIIUSwyiqPp06fbBIQVA/cN1iLvOkMkIRw6duxo3/N1UbCZl70nTMxYYbBQJU3imcAygcjC4hHu92GvDgKCNCPw2IvDvyFgbwog6ML9PFF8uE2aNHEnnHBC6uwm9t13X4uPPVa4lB5//HFzGeYK7jzcWzzDJmbElofPP/rRj8zig4UuFGahVQeLGwKKNGLB4S+uMML0lhaOf/3rX5tZb0IQvLjusDKxMZu6Jt5M5FLeSWAle/nll21/1O9//3vbj8aeJyxfuYKLEEsgIg53J27EXESuEEIIkSsZxREggpj0EBO4QPw+Hc4jOnA9MVlm2r+TBBYEwsV6hFsGwZQJ9j8dfvjh7pprrrGDCR2LE9YE/rJRGEsJ+4DY/Et6EQi4vbBskVY2KON6wtrDxJwEQo1wSR8/r//Tn/5kYY8ePdrcSljR2G9FWFhrsm3ujjJy5EhLE2m44447zALCP7pksicshBGbpEPYf0PeSAfuMCxH7Lchn9xPPWGNYS/OZZddZpYgNkMngfWKPUC4BH/3u9/Zfh6EcAgihHLnp/HES76zlXcS3I/1iH1O/OKMssU6liTe4iDNCF3qEvccZZ+PS1O/VhNCCJGNrOLogw8+sF9oYSVCEHnefPPN9H4R9uX4vTz5gMWCMJigc9mIzd4ZJmF+8cbBfqc999zThAv7UbB68GspRARWKc7jLgKsDLiodtppJ/u3AfwPJ6xg7IFB3MXhw0V0IMpw5VAOuHGwyCAaiA8rCuWUD+x3YpM34bAXi31drVu3NgsaG5hxHUXdeYgShBPCAovPuHHjbGM2IKTYx0P6sI6xYZkwM1n0EAiUyc4772y/tMNyFHWrkX/qCAHrrYS5lHccCCEskFjbKE/ci/fcc09eVkdEK+VDObH5GwsawlAIIYQoFjU2TsgbUp/LHCbIyy+/3IQKe0oKcasVCsKB/S4IA4QFrrGKCvt0+vfvb6IAS5UQQgghSo+slqPSAIsJv/TiL/tmsIiUtjDifVv840DEBQc/S8dSg/UCC4wQQgghBJSLOGKvCRtr2SDNPxHEHVPa4C5iIy9uIDYSEzf7dfiPzaX5CzkhhBBCVC7K1a0mhBBCCFHRKBfLkRBCCCFERUXiSAghhBAiQOJICCGEECJA4kgIIYQQIkDiSAghhBAiQOJICCGEECJA4kgIIYQQIkDiSAghhBAiQOJICCGEECJA4kgIIYQQIkDiSAghhBAiQO9WE1WGHXfc0dWvX9/VqFEjdaZkbNiwwa1atcp9+eWXqTPJFBp3WcSRRD5xCyFEdUKWI1ElQDhst912RRMOQFiESdiZKEncZRFHErnGLYQQ1Q2JI1ElwKJSWmQLuxhxl0UcSZRm2EIIURkpsTh67LHH7MiXY4891k2cONG9/fbbdrz++utu2LBhrm7duqk7coO4n332Wbf//vunzpQM0kV4/M3GOeec4yZNmuSuvPLK1JnCOP/8892f/vQn16ZNm9SZ3CFu0kBaqhuU15gxY9yIESOKalGJki3sYsRdFnEkQdi0wX/+85/upJNOSp0VQojqS8HiiEkZUVNSZsyY4a6++mr3xhtvuIMOOshdcMEFqSvxXHXVVe65557LSbxUFjp37uz22Wcf16pVq9SZyg9ibfz48e6ss85KnSk+J598smvSpIl76qmnUmdKzt577+3uvPNOd+qpp6bOVA1++ctf2uIjib/+9a9uyZIlrn///nkvUIQQoqpRsDi6/vrrXbdu3dx7772XOlMY69atM7Hz+OOPu6+++srttttuqSvxNGvWzNWrVy/1rWqAkDjqqKPcyy+/nDpT+UG0bL/99m6rrUrHc8sEvt9++7lPPvnELB6iZKxZs8YWKDvvvLM74ogjUmeFEKJ6UuJfq2FB6tSpU94rbSw/Q4YMcTNnznTnnXeeO/DAA90f/vAHt3DhQrfDDju4rbfe2l100UVu3rx57oYbbjCrEr+qCV1PTz/9tMXdoEGDtLBavXq1e+SRR9x9991nkydh7LHHHjZJL1u2zD344IPu4YcftnSThg8//NDtueeedn3y5MnuiiuusIkCfve737ljjjnG1alTx61cudLddNNN7l//+pddA0TNmWeeaeIOsdi3b1+zlOyyyy52/bPPPnN/+ctf3PPPP+/OOOMMd/rpp1veSAe/FPr666+t3HANsu8DC9p//vMfd/nll7tevXq5bbfd1i1evNjdeOONdh/5qVWrlvv2228tzD/+8Y/pfIwePdrde++9Fq/n4osvdv369TORsn79ejd16lR36623ukaNGrlrrrnGznFgsUoqNyBNPIdVgbgWLVrkmjZtamXZsWPHLdJFWXKvBwvjb37zG8vXYYcdZvni3ldeecXyRrlQjgsWLHAtWrSw8vzhhx8ylv2RRx5p7WfChAnmktzYjlNXNoGlpHfv3vb5u+++s7ZCWxs4cKDlmfv9eco/7v7QXfzxxx+nPm1JNG7qivxvs8027ptvvnH333+/nR8wYIC102jcnlzjwLqVlI/f//731ieA9jdq1CizxlLnnqS4wzIlnbRn2vWUKVNSdwkhRPWgQmzIZqI9/vjjbRJ/55133KxZs1zjxo1NEO211142GcydO9cmHSZaxAtCgoEb+MUN7rnbb7/dRMfhhx/udt11V3fJJZeYUGFPymWXXWaTLCLl4IMPtueYvJiEcdV99NFH5to65JBD7NrRRx/t+vTpYxMDQoWJM5yco7DniX0btWvXdtdee61N2IiAX/ziF+64446ztBM/6fjb3/6W6LpgImPlTj4vvfRSEyIIKoTNb3/7WwsLwUgeSG8SiDT2j8yePds+jxs3zu27776WHk/Dhg1tIiRNy5cvt/vJJ8KoZs2a9twdd9xhovMnP/mJPcN53C8nnniiibG4dBEXky+T98iRI038khfy9eqrr1q4WCmIi0neQ10gOMl7trJnsmevDOmO45577nGnnHKKHcSJ+AbKnTxw/oMPPjABSN1gBb3rrrus7pYuXWr3FgJttWfPnpZ/4pgzZ4474YQT7BpCj5/Oh3EXSlI+6EvkgYN7SAvC76WXXjKxxP2ItFAYeVh8YMmlvQkhRHWm3MURkxIboJk433rrLVvpMpkxsXbp0sVEB1YVNmwnwQSJawWLEBM3kwKTa/PmzU1sYVVhciAMrjGBAStoJuIXXnjBxBGTzU477WTXsGCtWLHCJtWhQ4ea4MoEwgMLFpvMEQdjx461uHEvMcEz4SAISAfWGURPHKz6yQPWhn//+98mpLAeETar+ieffNK1a9fO7kXcJcE+JqwzpGP69OnuoYcesnDbtm2busOZmCEtpGnatGkm5g444ADXsmVLu4+6wPqE+ERIAfXCvaQJck0XIpf4qSPS88wzz5i1ivMeXLQcuZQ96UEIY22K49BDD7V6x12LuPKQ/jfffNM+kx7C4cA9R7srKVjSACsV0B4AkY4VyX+/7rrr7CiUuHwgkKiX999/3w7KmfaXK9yPeCMshC+iTlYjIUR1pNzFERYfXEOsZpmIsQohdLAUMXF27drVBmyEU64wOWPBAQRCCBMqFoo4cAexugcmaawduIlwXeCGwuqUCcJl5R3i4yJefw2BlrQXx1uzyDPgYmrfvr1ZapjwsO7kOmERztq1a1PfNhHmPUwrbswQhALC1R9Yf6KcdtppeaUrzJfn+++/T336L7mUPUKDNOOGi4OJHasNlhLEXybyERBVGSyRLESSrHFCCFFdKLo4wlyP2MkVJmgvhkKw8mCVYMBm8mXfCzBwIyyy/eO6Tz/91Kwz3bt3t/0sWA9w+bDPB4tOLpAmXHe4SJiI/V6iOAgTtxkWK/b58EsqrElYQbBOIdKIn+u4jrBqxUGcbIrFtYXlhD1QWLrIM9YUyiPcf5IEZcZEh4DhmZ/97GfmqvTlCITDdTaDYzGibBGhuJVIO9fY40UZ/PznP0899V8IPyldiCAEoXfRsLeLzfTknXtxo2Kpevfdd+16lGxlT7kirLByJIFFBbK5r7gPkUU5//jHP7ZyKpTPP//cxK+3IGE1BFxapU2YDw7K2ZcBdYtl1FtN46BPsXeM/UbUE78CLNa/yBBCiMpEhdhzFAerfSZdJsDQ3YFLB2sIe3PYMJ3EF198YftOmOjPPfdc29DL5IAbKRfLC4IBdxvCBmHA5P7oo4+mrm4JYeKGAvYwsQGZCenuu+92TzzxhAlAXHZsLu/Ro0d60orCvin/bw34STnijrARewiuwYMH57SyZ7M07kqsb2wKZ3Mt4d5yyy2pO5yVI5uhESHs3yH9lDsuPcoegcb/EWJCpTyjsF8pKV2UG2X/P//zP5YP9n3hBmJDNulh0iV9fI6SS9nzv53Y2O5deVFwkyKIcavhvsMNlQTtBIsl9YbYmj9/furKf2EP29///vfY9IbQVtkfxYZs4kas+HaRjVzjSIJ84GYkHxx85hzg5qP9c546ZX9SFH6YAOxhEkKI6kyFfbcaEwVCAQsEE3hVAsHCr7SYkH/605+mzpYdCBNcVZRt3CRZWWAjOJa4P//5zyaGSpPdd9/d4sPNedttt6XObiIXS14ulEUcSSB+WThg4bzwwgvTv9gUQojqSIW0HCEecIXhVivGJtmKwPDhw93ZZ59trg5+McavirCIiMJhszkWOP9rsNIEcYIVE3dlaVEWcSSBhQ63GhvlJYyEENWdCmk5Yt8Sv5jilz38oqcqDNa4ldjHw/4ZVue4uPgllv/VV1lSVSxHIfy7gdJ6xQZ7p/g1WxLFiLss4kgiW9xCCFHdqLBuNSHywb+1vjRgoz3/AyiJYsRdFnEkkS1uIYSoblTYDdlC5AOTO5M8VpBiQVi5CIeSxF0WcSSRa9xCCFHdkOVICCGEECJAliMhhBBCiACJIyGEEEKIAIkjIYQQQogAiSMhhBBCiACJIyGEEEKIAIkjIYQQQogAiSMhhBBCiACJIyGEEEKIAIkjIYQQQogAiSMhhBBCiACJIyGEEEKIAIkjIYQQQogAiSMhhBBCiIAqKY72339/9+yzz7q33357s2PSpEnunHPOcY899pi78sorU3eLqoSve+q4mNBuaD8Vrd1U1HQJIURlpkqKoylTprjjjjvOdevWzT399NNu7ty59rlHjx7u3nvvTd1V9UEoPPXUUzaBVjUkcCsXtEHaIm1SCCEqOnKrCSGEEEIE1GjduvWG1Odyp1+/fu6iiy6yz7fffrsbN26cfS4JWBc6derkTj311NSZTVaHBQsWuP3228/VrVvXLEv+OivcM88809WsWdOtWbPG3Xzzze65555zd999t1mfILyfsNq0aWOfcd2dd9559jkkDBOwZl1//fXu2GOPdeeff76bNWuWO+SQQ+xaGEZSWohz1apVrkOHDm769Olu4cKFrn///vbM+vXr3ejRo93UqVPdNddc45o2bWrnfZopj+i9WNOIq2/fvna+YcOG7oknnrDv/nmf5hCsAGEc3DNt2jR38cUXu7Fjx1q4lFvjxo0tnkx5jQvLxxctY8Lz3xcvXuyuvvpqsxaCD4e8cbRq1cqtXr3aPfLII+6+++6zOqeN7bHHHm6rrbZyy5Ytcw8++KB7+OGHrS1cfvnl7rDDDnPbbrut+/bbb90rr7zibrzxRnf66adbXVD+pIs80l6333579/XXX1t+R4wY4a666ip35JFHujp16lj8b7zxhpX5JZdcYvX94Ycfuj333NPinjx5srviiiusbmGvvfayuHiO++fNm+f+8pe/uF133dW9+OKLlq4dd9zR7v3000/dbbfd5vbee+90uij7IUOGuJkzZ1q5El/4nfo866yz3C677OK+++4799Zbb7k//vGPbtCgQe6YY46xNK9cudLddNNN7l//+pfFE8W3k6VLl7rOnTtv1oYgrCtfN5R5XPv3+HRS/uDbhe8f1NHuu+9u8fTu3Xuztg++X/o+0rVrV9e9e/d0uyAc3ya7dOkS24+FECKkQlmOmLQaNGhghxdJpQUDNgMpA2ijRo1s0PcD/4UXXmgD6IQJE2xQZ3BlkuVezofC6L333rNz5557rmvevLmFEcL3AQMG2MDOfYTRq1ev9H3169d3LVq0SF9r165dxrR4mjVrZteYRJhouIeDSZIJhEmB8BCBI0eOTAujPn36pPNBmk4++WTLHyBMeI70UQdMQj7cOGFEeM8884xdJ0wmJJg4caKlgTxQJkOHDrXzSXlNCot0Ia7Ap4P8khcmNiZZ3KdeGIVQp6+++qq77LLL3PLly91JJ53kTjjhBBMdiAOEDNcQA2eccYY7+OCD3aWXXuqOOOIIew4RgbAhHwMHDkyFugnqAWGEm4j458yZY2ETBuLnhhtusDJEfOy7775pMbjNNtu4H374wQTURx995PbZZ5/0NfjPf/7j3n//fdekSRN3wAEHWHgIow8++MC9+eab7qGHHrJ4qc+dd97Z4sgVFgiU9RdffGFh0HYREZQBbcLXO/lNEkYe2snatWutPhAoPAOECb6uEHCDBw824URboy3ST6JtiTZL3DxD3dPXfJukzVBHoUs8bPscPj5EIHkbP368iTb6OJBPBNb8+fNj+7EQQkSptm41xAaDMgcDJxMSB5M3EyerVywsDM5YUoBVLBM58Jdr3MO9PMOzhBHCdwZtP7AT3+zZs20FCwgQJg4IryWlxceP1cGLAs75DejR+0IQKj7fQJrIO5MHsNJnYoElS5a4li1bpsVJFCZIygWrA/FireE7z/jJDxHx/PPPp9OZlNeksA488EBL80svvWTP5MPnn3/u7rzzTnsWiwqWICw2hPfOO+9YOrj2+uuvm8UCCwyWG/KNFYlJH7GG1YnzIZQtFiNEFeVO+RH+DjvsYNYRhBXlyISOhWjrrbe257DWkL8XXnjBxBH37rTTTnbNQ9oAywhpqlWrlqWFsjv88MPNAoZYq127toWdKwcddJCVs28rP/vZz8xStGHDBrdixQora0QscWSDdjJq1Cj7PGPGDEvLaaedZt99/QKWX9qiFzqZoJ1F2xGQ76gFOWz7hI0Y51kED1ZFrmFN9X0MYcgihnRD2I+FECKOCiWOcKUxUHPwuTzAIuFXohxYBpgs+ctkeccdd6RXyKxOWcWH90dXxSUhLi1+UvAwyDOhMGFwD+khXSUF4cTkDkw8WHaiMHH5VThHuLrH7ZIPcWFhLUFAsOIvCV6ceHCXhSAQsOgAf0lLyPfff5/69F+++uorc8H59GL5+Oabb9z//u//Wt75S3vJBOIGgRKCaCS/CCMsS4SFiMNSgsULa+e1116bdsWFrFu3LmPdkzfcpT7NHFjLOBCxrVu3traE6CtLvOuV9GBZ8iImGwgj3GVjxoyxZ7EkehBUhInVFhCr9J24fiyEEFEqlDhiQMPEz1GM/Ub5gtUAkz3uhziY+BE/rIa9a8G7FJIgzI4dO6bDZEDHncSKGwjLW27Ca9nS4iEdWBe4H1gt+70dUVhNU7Z+JU/YuJ+wrCSB24JJh9V3iJ/AcGNEQUj5fUa4Bv0qPSmvSWEhFBAqoTsxVyiXs88+251yyilmFcG1hptr0aJF5rIjTOoO1xV7hrDY4BLzZY4wOf74480i9O6776ZC3QT7prA24apjfw2uyVtvvdWEDnWBcKJc2ZOTL4geXGtYlHz5sPeIdNDeEEs9e/a071G+/PJLuweLI/VM3rDqAC47rGCIuKOOOspcTrfccos7+uijTYTTrqlnhCQiLF8oEwjrivqk/rylMgnaihfTpAvLUS5465IXz2EbJU7EIm5Swg4XFWE/vuCCC6rsLzqFEIVTbd1qcTBo4nby7h0OVrVM5N507600DL64IRhg/b3c44WHJxomz3Oft7AweTBZR68lpSUK6cA95e/DbeStB969wDVWyUwIuPiIh3uZyNikGjd5IXB8vEy0obsECHv48OEm/Px9uGsIm/uxdpAHJmv2nUBSXpPCQlRFy9iXAW4SXIj+vihYh0488UT3m9/8xr7jBiJN99xzj02WWCjYeIyQZKM2acCFibWKjc9shCZcwudzCGGxQRrrDuWKVYd8snkbMXPooYe6YcOG2V6ZQiAtuOBq1Khhgg5efvllE1yUE+KH+KLgfqNMue+6666zTee+LeA+fOCBB0z80A4IBwGGtQg3H2X785//3ATio48+avUf194yEa0r9vf4/Wb8QICypoyjVkjqBTHKMwjNqOUuCdoObmHfnqMg2Nq2bZteaMX1Y/aVCSFElAr1a7XqBoM1+x+YqLKtris71SmvVQHEHeICAVJZQYRFf6kqhBC5IMuREGIzsJhhnSrpXq/yhDxgpcTCKIQQ+SJxJITYDNx6WFsqq4UPixHuO/6VAC5EIYTIF7nVhBBCCCECZDkSQgghhAiQOBJCCCGECJA4EkIIIYQIkDgSQgghhAiQOBJCCCGECJA4EkIIIYQIkDgSQgghhAiQOBJCCCGECJA4EkIIIYQIkDgSQgghhAiQOBJCCCGECJA4EkIIIYQIkDgSQgghhAiQOBJCCCGECKiS4mj//fd3zz77rHv77bc3OyZNmuTOOecc99hjj7krr7wydXfFpTzTSTlNmDDBHXvssakz+XP33XfbUVEI08NfyjeOTNcqO2EZVGaK0T4rA1W5LQpRkanRunXrDanPVRLERadOndypp56aOrNJdLz33nvu+uuvT52pmFSWdCbhJ+HzzjvP/pY3SemJayOVgULaR0Wok8pa3kKI6oPcakIIIYQQARXKctSvXz930UUX2efbb7/djRs3zj6XhCTL0YIFC9x+++3n6tat6+bOnZu+jrn+zDPPdDVr1nRr1qxxN998s6WrcePGm91z8sknu1tvvdU999xz6XN9+/a1VfyUKVMsjqVLl9oKHdM/YQ4dOtTi9OHD008/nV7588yqVatchw4d3PTp0y1ObxngWrNmzSw9Pk4P19q0aWOfFy9e7K6++mpLA1aC2rVr23NNmzbd7FoI6RsyZIiVxfr1693o0aPtvM8PaeYz+encuXP6nnvvvddcmNdcc42Fz/kPPvjA1a9f38oqaqUI04mbM856EVf+5LeQPIb5Iqx58+a5lStXWrw+bQsXLnT9+/e3zz5fXbp0se/cF+YPwrZCmpLaEeF369bNPofno5DG888/382aNcsdcsghdi5sE2F5gL+WVB6eaLr9c7nUiW/Lvr4J/+GHH7bzufQXX19xZUN/jJY37SiEZ327J/ywr5F+6mzJkiXp9nnMMcekwwzLIowrrowgqZyS0plP2UTLIExD2D6i5RaOAR7qJSk/YR1G40jqG7m2TyGqKxXKcoQwatCggR1eJJUWDFgMSAwWjRo1ssHND3wXXnihDRzsaWDgR6Qx4fv9DUyes2fP3kykzJ8/3yYIBiHu4/7mzZvb4Nu1a1e7hzgHDBhgAy3hE3evXr0sXg8DGfH7yQv8hMa9YZzAwAiEx/Hpp5+6wYMH2zlgkH3mmWfcueeea9+ZSKIg/mbOnGnP9+jRY4vJCsjX2rVr7R4G7d69e9t54mIw5zzpJv1x+AmP+0gLZRPmGyg3JkJfPj6/heSRckd0+HxR17vuuqtdD2EiZEJkgojm3U+cxOfjBl8fENeOyEerVq3sHM9km3hoKy1atLB7SUv37t0tbsJKai+ESZq5/7jjjtts0udZJlLKxD9HmL79ejLVSVjf1C/nc+0vnriyyVTeHoQHaQEvVOlD5IvzCCNP+/bt7fzIkSMtDb4syD+LIs5xUIcDBw5MPfVfaEdh/Xph1KdPn3T9Uf60S19+uZSNx5eBv9engf7t46SN0gc9cWMAeYzLZyF9I9/2KUR1pNq61RjImXg5li1b5po0aWIHk9SIESNsFc0qjYmLFRcDWzhAz5gxIxXSJgjH38OxaNEiG0AZSLmfSYjwGQj9hMAziCw/AcDkyZM3m+iYDEOrVQhpAQZvT1TIIWSIjzAZOP2kE8JKnEGSSSEJymDUqFH2mbyzIj3ttNPs70svvWTniYP0RyGdpInypFwpX8qZ8gih3KiLqECBfPNIuVMfPs2UNWWfD9EwgLwSvk9XXDuirABx5u/LBHH4/E2bNs3+Encu7SUOnm3YsKEbNGiQlTcCj+8tW7ZM3ZG9TsL6RqyQDuLn/OrVq+0898b1l0xlE4V7wx9P0AZpX5Qx9eutp75O6VNTp05NPe3M4sY5RKRvD8D9WFN8uLRvwgrhftIbtVDzrE87UP6kn/YJuZSNJwwnbDvEPXHixNi0RccA4Hs0n76c8+0b+bZPIaojFUoc4UpbsWKFHXwuD1jRMlj5w6/QGNhYpbISxDUTTuAeBnFWq6we33rrLRs4Dz74YBv4/KRXCOGEUxqwWiavpN3/oi8XmHCxlmE1ywauCb/q9QfxhjBwU2bFACGAcCsPaC+0G1bsd9xxR3p1X5YguLxlgCPOSpNLnWQjqb/kii+rMH4vfhAj9LUXXnjB+hB9ifYRDZ+FA9YZXKgILd9XvPDwR3SBQRuhDLxYKCsOOuggd/HFF7sxY8ZYurCk5UI0n4xHhVAR2qcQFZ0KJY5Y9WDO5oiu5soCzPWYtOPEAQN2rVq1XM+ePW21GgcCiAmZFTL3swI+4IAD3Lp162z1SPgdO3ZMh8/qrl27dltYoUJYXbLiY/UfFUh+kghdGZjnmRj9ajUfGHxZaWazTHjeeOMNi8u7BEgf7psopJNVr3fFJUE5hOUDheaR8ke4eTciZU3Y+cCkiTAN3THkAUtbdIKOAzHCZB+u5POhkPYCfrIPXTVRcq2TTGTqLyWBtFHGiPVPPvnE6pk+RF9Kyjv3XHrppSZ2WMDwPGWXqdx9G4m623iWMcg/S/5Y8BSywCEPHt92SCP4RUV4TzbCfNKuoND+H22fiKRM1mMhqhP6tVoAgwVmcO+O4PD7SxiwWbUySI4fP97ORWFAYsJhtcv9DL4M6l5MRcNH8CB+oiv6KOw9QCCxyotORGzyZnDz6WUvAefygTyGz4dupGxg0mcS4lnShzsxjmg6yXd04oqWj7+nkDxS/qyMeZ5nWG2zITsOJj0m+ajVjDCGDx+ezh8HhHtB4iBO7zKhjnGTIFiYfKJ5zkS29oKlEldWaC2BuHRH74Fc6iQT0fRxhPuxkkgq7xBEUChI6EP0JfpUCNYT75bDvYf4IF1M+ri7KDOftujEH1dO3BN9FvExduzYnARHHD5soO2QPtx0PvxcoO7i8llI34hrn4XmTYiqSpX/P0fFxA/82SbH6ozKKB4mpBNPPNGEhKgeIIYRsIgtIUTlQpajHGFyy8WlUZ1RGSXD/hksH0IIISo+shzlANYQv3FSq8DN8WXjURkJsQlZjoSovEgcCSGEEEIEyK0mhBBCCBEgcSSEEEIIESBxJIQQQggRIHEkhBBCCBEgcSSEEEIIESBxJIQQQggRIHEkhBBCCBEgcSSEEEIIESBxJIQQQggRIHEkhBBCCBEgcSSEEEIIESBxJIQQQggRIHEkhBBCCBEgcSSEEEIIEVBlxdH+++/vnn32Wff222+njyuvvDJ1tWw59thjLS38FUIIIUTFpkpbjtavX+9GjhzpunXrZsf111+fuiKEEEIIEY/cakIIIYQQARVKHPXr189NmDDBDj6XBnfffbd77LHH7DNuLuI655xzzOXm3W+TJk2yc8Dfp556yt1///12DffYgAED3MSJE+17GBbXhg0blg6HuOIgTOLgHsLhWdyAxOPjFUIIIUT5UKHE0UUXXeQaNGhgB59LSs2aNd2gQYNMhHjBM2rUKFe7dm37fOaZZ5o4uffee83l5t1vzz33nOvdu3cqFOeaNm3q1q5da9dWrVplz958883u6quvdo0aNUoLmvr167sWLVrYfVxr167dFmKH73379nUXXnih3Yc4Ix1CCCGEqBhUmz1HPXr0MBE0ZcoU9/zzz6cFid+HFG7g7t+/vwkdzsHixYtNVMHSpUvdzJkzTUBxfvXq1XYeEE6jR4+2z1yfPXu269Kli333NGnSxATUiBEjNosLTjjhBEujEEIIIcqPCiWObr/9drdixQo7+FxazJ8/34STBxF0zTXXuMmTJ5uQQlCF14vN3LlzLR5/HHfccSbahBBCCFH+VChxNG7cONenTx87+FwaIITOPvtsN2bMGPvOXiPcZrVq1XJLliyxc1h7cMnlCxagrl272mf2EeFWmzFjhn33EEezZs22cLdpz5EQQghRMajSbrVwzxEHG6QHDx5s+4dwX7300ksmxFq2bGkuMH9v8+bNC7Ic4Vbr3r27hYElyu9nCuE7+4yi6RJCCCFExaBG69atN6Q+ixKApej88893w4cPt/1GQgghhKicVGnLkRBCCCFEvkgcCSGEEEIEyK0mhBBCCBEgy5EQQgghRIDEkRBCCCFEQJV3q9WpU8d+0r/VVtKBQgghRFnxww8/2L/F+eabb1JnKg9VWhzxTxnXrFljFbTtttvaP3oUQgghROnx/fff2/Htt9+6rbfe2owU/B/AykSVNadQGQgjKmb77beXMBJCCCHKAOZd5lzmXrw2zMXMyZWJKiuOcKVhMapsFSKEEEJUFZiDmYsLeSVXeVJlxRFqFVeaEEIIIcoP5uLKtu+3Su9SlitNCCGEKF8q41xcpcWREEIIIUS+SBwJIYQQQgRIHAkhhBBCBEgcCSGEEEIEVNl/AtmgQQP7+aAQQghREnbddVf73z0e/rnh559/nvomcoFfq61YsSL1reIjcVRCTjnlFLd48WL3yiuvpM4IIYSoKrRp08Ydcsgh7rPPPkudca5t27bu0UcfdV999VXqzH857Jc3uD4tU1/mT3BX3FO2c8OZZ57p6tat60aMGGHfe/Xq5Ro3buwWLlzo3njjDTuXZo9T3GVndnHb2Zd5bsIV97owtYf98jLX9KWb3OLeN7j2H1zh7p2YulAAlU0cya1WAF26dHHHH3986psQQoiqyM477+zatWvnFi1a5ObOnetmz57tXnzxRTdnzhzXqFGj1F3/pf2pl7mDlj/grrjiik1HGQsj4LVZ/OPFGjVquP3228/E3XvvvWfp5XOU5e/69G4ujEJeuccLo8PcOb88zM5VdWQ5CjjssMOs8TRv3twa14QJE1zTpk3TliGut2rVyrVs2dKuz5s3zy1fvtz+hwMrie+++86NGjXKwho4cKDdwwv3OLfHHnukwwbOoeSFEEJUPBATJ510kokiD+P3a6+9ZmM55z/++OPUFdgoHC5r6l656XE3K3VmE+3dKZed4bqYeWalmzH6Jvf4R5vuXb6ii+uClQkL0wft3WXNXnE3PbbxaSw6vRe7mwoUV9tss40t4lu0aOE+/fRT1759e3MLvvnmm5vlh3jO2XeGu5c4Pb3OcTcctevGD/PcvPkN3fKXbnIz9r3MHbbo725591Q+Vs5wD2yRz8zIclTJofEjXIYPH24N6p133rEGBnSI6dOnu3/84x/WyO699147j4AaNmyYW7JkiYmgnj17WgdCjfOX7+DD/uijj9LnhBBCVDx22GEHExJYivwxc+ZM17Bhw9QdMaxYvKVg6LVx0f1xyjozeq5r0ztledmui2v4wSYL0wR3kDvl81fc3IZdNkqpjXJq3zZu+QeFW50OPvhgm7f++c9/uhkzZpgwmj9//ubCKEXDzme4G264wd1w2Skb494o5Lo7N8EsSRtz4t2Dxiz3+E0TNgqmjUIuT2FUGZE4ioBwwaLDG4RXr17tvvjiCzuPafXLL7+0hhZl2rRp7uuvvzYrEvAOGcIB/vp3yviwsUQJIYSofDRp0sQWurxMdQsaNDVxE9K+mXNz30lJiY9muLkudc/KGe6V1B6ez23umOVmLG/ouuzh3M4b7/LX8oX0sefohRdecGvXrnV9+vQxYcRCPY60W80Ez86u4YpZKffaK27WfPtQLZE4iuBXBa1btzbXHCxYsMAdeOCBOYsafL5YkIC/69evt89CCCEqN4iPSZMmpRfO/2WjmFjRxf341Kg8auja7Js6t0cX18alrEvbNdwoRaC969J607wz653lruG+p2yUTzMKtsyw7YMtJWz3+NGPfmRbO5KEUSwt27tNtq32rummKbBasvVGMfCH1OcqBS+627Ahv+1Uu+22m+0dOvbYY03UYJJkX9G6detMHL3++utu5cqVZqI85phjXIcOHewnnViYPvnkE9exY0f7PHnyZNe/f3939NFHm8B6/PHHbWNfvXr1zCxLPP6zEEKIikft2rVd9+7dbQxnSwUH88Nbb71lG7Pj+GTKAtf8R2e4AX2PcEccsfHY4wf3+Oi3/3tun3Xu1T896T5xu7n9D2jn2vXt6/oe0cXVm/WYu/fVpc4t/c7t/qMezr38tJu58WshbL/99rbfiHTjqWALSCKNO7o+G+epvqT1iAPcjp895N7cqo87cUDfjd/buHrrnFv+wWvui517ut1Wveamflrb7X7kiW5Azx3dgtdmunySyAZx5svKgjZkB7Dhmv1DiJkQGhq7/v1mayGEEFUf3GeIJA8/usFFVXKSNm8nnc8PFt8s1CsS2pBdxeD/GP34xz92U6dOTZ0RQghRHcDywi/S/FEcYZQAvxK7oY9zk0u+2bmiCaPKiCxHQgghhChVZDkSQgghhKjESBwJIYQQQgRIHAkhhBBCBEgcCSGEEEIESBwJIYQQQgRIHAkhhBBCBEgcCSGEEEIEVOn/czRnzpzUNyGEEEKUF7x6Rf/nSAghhBCikiJxJIQQQggRIHEkhBBCCBEgcSSEEEIIESBxJIQQQggRIHEkhBBCCBEgcSSEEEIIESBxJIQQQggRIHEkhBBCCBEgcSSEEEIIESBxJIQQQggRIHEkhBBCCBEgcSSEEEIIESBxJIQQQggRIHEkhBBCCBEgcRTDVnV3cC1+/ZAdfC4L6rQ/yDU//y9lFp8QQggh4pE4iuGHNV+5Bbf9zA4+CyGEEKL6UKN169YbUp+rFA0aNHBz5sxJfcsdLDc7nz3c1WrWxn0zZ4pbNPJCO7/T6Te5rbdvvPF8W7f6/Zdd/X2PcUuf+rOr0+4A98O6NfZ9w/q17ouHLnffzHrDLEE7/exGV6Nmbff96hXu8xHnuPVfznfNBt3hvl/5pau39+F27evJT7qaTVq5Om33t3g8hP31G39Lfducf//73+7bb791Bx54oH1/4IEH3BNPPOHuvPNO99hjj7kbbrjB3XXXXe6AAw5wixYtcs2aNXN77rmne/PNN92+++7rJk2a5ObNm+e6dOnidt99d1e/fn33yiuvuDFjxrgbb7zRjRw50sL4yU9+4v7whz/Y8eijj1pcIWFZQVhe2x90omt8wm/s87pFc93n952fKDST8jN06FC3du1aS+eqVavcJZdcEpsOIYQQFZu2bdu6FStWpL5VfGQ5iuCtRoiTkBq167of1n7jVk4Z52rtvIdb9c54V3On1nae759e29cte/ZO16jvBW6bxi1dwyN/YULp48t6uNXvvrhRKAxOheTs/nk3nuAW/fUSV3uXPd3iMb+3z2vnz7RweCZJGEHt2rVdy5Yt3Y9+9CMTEoigTGy//fZu7NixrmPHju7FF180sQQdOnRww4cPd2effbbr1KmTCaX33nsvLVJ69uzpPvroo0RB4suK9JLurWrXMVFYc8eWbruN4uizP59q17JZ4JLyQ7q5xt8pU6aYOBJCCCFKG4mjPFjz/iv2d+VG4fLDt6vtM9j3jZP/N3Petu912uxrf9fO/8D+fv364/bX7ydK3z/rDbdw+FkZhUMSL7zwgps4caL7/PPP3bbbbus6d+6curIlCJw1a9aYwFiyZEnqrHNz5841CxHih/M777yzWZcaNmxo17HY8D0Tjftf6lrfNMm1uup5s6oBFrLvVy1zLS56wMRSLsTlZ926de7pp5+266SD87169bLvQgghRGkhcVRkEAU/rF2T+lZ5wH2FMHnttdfMWvO73/3OffPNNyaekkD41N3zYLMQYTlat+i/bkzca1jHsKTt+vvnzJpUUr766isTUEIIIURpInFURLY/+BT7u27hLLd1/caudssO9t2fz2Qh+m7pAlejZh23dd3tU2fy491337V9O1h/2Ct04oknpq5k54orrnC77LKL+7//+z8TH+xTOuGEE8zilI3vVy1136/52vK6TaMWqbObIL/sNfpu2QK3TePNr+VL//793fLly1PfhBBCiNJD4igCFg4sHWwmZpM0LiM2F2eCe7lv29b72v4h3EpfPvUn25Adns+Ed0Xt8pvHcoozjrfeesudccYZthl75syZqbPJsEn766+/dhdffLFtwvZ7i3BhNWnSxKxImcBtiKDDpYaFaN3nmyxHvgy9u23tZx+aCzFfatWq5YYMGWJphOOPP97+CiGEEKWJfq1WQvj1GXuRMm2groj4X7PFbebm2q677lquYoS9ReGv74QQQlRe9Gs1UWnBvfbll1+6I4880t1yyy2ps0IIIUT1QpYjIYQQQpQqshwJIYQQQlRiJI6EEEIIIQIkjoQQQgghAiSOhBBCCCECJI6EEEIIIQIkjoQQQgghAiSOhBBCCCECJI5EqcHrTPhv2x6+8yqQhQsX2vvfKjO83oXXo+x23cv2At7KDvVBvVA/H374of2HcuAfg/LePv9dCCGqA/onkKJUiHs9CeKI44ILLrDvvINt53PvdVvXa2Df4fvVK9znI86xd82VJVvV3cHtfPZwV6tZG/ueSzp4ptnP/+yWv3B/Qe+Oy4eyKivE0Kmnnup+9atf2UuIIdOrZoQQIhf0TyArMayOWTWzeuZgIge/euYILR/PPPOM+/e//51ecfv7iwETUlzYnJswYYKd41UfpC2JYuWH8z6M8N4wv3znAK7zCpJhw4bZ9ySY1Oddd6z77M+nunWL5tpfvnOed9Y1OfUqs8xgoWnc/1Kz0DQ//y8mSoB7/At6uc59/t5C4MW/pOHjy3qk0xG+RDeXsMP7Q6uStzRxkO58Kc+yeuKJJ9y2226bsa0JIURVQuIogJUyb6rffvvt3Y9+9KPNJoTmzZu7V1991a599tlnrmfPnnZ+9913d5dccok7++yz7RrCoFh06NDBDR8+fLOwa9eu7Vq2bGnp4y36p59+eqLLo1j54QW0fOaYMmWKGzBggBszZkz6OvE3a9bMzgFhIaT8W/4LpdbOe7h5N57gFv31Eld7lz3dVrXrp65sDkJgm+2bmKj59Nq+dm+xXF1elBA2gmTb1vuaAEqi8QmD3YoJI+3+T35/uFmUuL/u3odZ2jgPXqgUi9IsK9oRbaV///6pM0IIUbWROIrgrST/+Mc/TEB4sJiwggbcC941hFhABHAgRJIEAZYgb33xR7gfJ465c+faG+k///xzt27dOhMu8MILL9iE9dprr9n3nXfe2f7GUYz8IKiwUhHOYYcdZvdxfsmSJZYmxNDatWvTeeeN/sWwoq1842/uhzVfmcBYOPws98PaVakrm1N3z4Nd3Y6HmiWk1VXPu1rN2qau5MfW9Ru5XX7zmIXT4tcPbWZ14RzXtt6ukZ1LYs37r2wUSL/ZzCJTp223jcf+ljbC4XOxKe2yog0irrX3SAhRHZA4CkAEdOrUyawmWFoQEMUC8eGtL/7wgqQkIFiYuOIoRn6YDLFOIXxI8yuvvJK64tyMGTPcgQce6Dp37uzGjx+fOrsJBFJZ8vXkJ80aElps8iV0qy247WcmNrDwIJqwsnDt+5XLUnfH8/VGkeKtQwgQbyH6Zs6UdPo4uK+8KLSsvvrqq/Q+JCGEqMpIHEVYuXKliQ2sITvuuGPqbMkpxHKUDdxb4CcsrETRfUjFyA9WK8JAKO2xxx6ps84sV7vttptZpLwVC+bNm2dutmLz3dIFrkbNOm7ruhvF5UbR4S0w67/42Nxd3tIT4su9JGWNaEIoYQHKZjnyLH36FhMhNXdq7dYvX+hqNt4l1h1HmbIvLPyFWDEopKwygXVy+fLlqW9CCFG1kTgKYIKvVauWuaCwlrAXp1gU03J0xhln2ISPUBk8eHDq7JYUIz8Ir08++cQNGTLEPfnkk27+/P/+Mgpr0rfffmuTZmhRIF7yV8z9V8D+H4QK7q3tNk74a+fPtPNYYTjv3VZsiPZChLSsWrWqYEvWN3PedrV2bmvh1t+vr1v3+aZfQOI2I77aLTu6Zj8flnbDeRccByJk+YSRZplZ8+HraZdduFGbcvvoo4+svDK5R/OlkLLKRJcuXdybb76Z+iaEEFUb/ZS/ksFeHo5iuORKCpaOoUOH2q/S/H4jD1YsrEeZfspfFpDGe++91/ZpVYQyiwOrFr/uO+ecc8rdbYXVUT/lF0IUG/2UX1QLEDlYpPgbFUbAL9wg6s7C6uX/HUBpQ9ykEctMRRRG3qV24oknuj/84Q/lKoyoD+oFCyHWRg9i6dBDD81ooRRCiKqGLEdCCCGEKFVkORJCCCGEqMRIHAkhhBBCBEgcCSGEEEIESBwJIYQQQgRIHAkhhBBCBEgcCSGEEEIESBwJIYQQQgTo/xyVEf4/NfMeMv7xX/jfhqvbfyDmXV919z7MLRp5YeqMqKj89Kc/tffn8X69f/3rX+69995LXan6HHvssW6XXXZx9913X+pMYbRq1crCmjlzpnv11VdTZ/OHF0jzCqDnnnvOvhcr3CTKq+7JFy/K3m677apdu+NF4UcddZS9E7Ok7S4Xom0qhPrntUuTJ08uSvuqbP/nSOKojIkTQhJHm8N7x3b62Y2uRs3aqTPOrVs0131+3/n2Atiyhglohx12cAsWLLAOPmrUqNSVLWGwady4ceqbczNmzIgdeMoDBl5EOv+J2082uQiAuOfygf+w3b17d7fVVpsM1Qz8/OfyTz/91L6XN14EhPA+wa+++qpaiyMoad0XQi5tUhSHTOKo2EgcVRAKEUe8QoHXOCxZssRetMmq5dZbb3U33HCDvSvssMMOs/teeeUVez1GaA2CBx54wD3xxBPuzjvvdI899pg9FxU+4ffo8xDGWVKi4XuLlX9/FjAp8GLWSy65xN7y37BhQ7f77ru7+vXrb2HhCuElqzufPdzVatbGvn8zZ4qJHXsDfLsDXO3dOrut6zVIn0+6PxOIpIZH/sIt+utvTBTxgtSmG0XTd0s/c3U7Huo2rF/rvnjoclezYfO02LKXv/78z275C/e7tfM/SMfp7+UlsPnCYO1BJD3yyCOpb1uSNNhwnpf08nJZRAKT7/vvv291tGbNGrfTTju5H374Ib1KC0UW9xInk3idOnWsjnjFx9KlS9MTCGns0KFD1lV2NH3+O9DmIUwHRCdIxE7Hjh0tDAROGGYoNHy6o/d7kvITV1Y+/z5sf68PG+jzoaWBa926dXNvv/12TuKB8MHXL2WKANl6663NiuHjDC0b0bKKQhi+XD2EwzNxdU+/88LAix/ir1evXlpcAgLznXfecZ07d3arV692LVq0yJqW8qj7JAgXCwn1Ho0zWg9JhGGAj3PgwIHuu+++szKBTAuUsC4hW7vae++9Y9tsmHd/L/d07drVvfjii7FlFyXMT1h+0TQWkh/KpHbt2vaC688//9zKhnBoa2Ff82H7/IT9CcJ8AuFT/9E26wU77cOPY8yN+g/ZlRgaD2+Z5++kSZPcgQceaGKChs45Gh6Ng3OXXnpp+o3qHPm+v4sBZ8899zRRhRAhjB133LEowgh8+D7d2267raUbEEw0Xq7RuHv27GnnEUYIJRo115LegYZYWXDbz9zHl/Vwn17b121Vu46JGaizx4FuyePXus/+fKrbun6jTaJmwHXu24/fsfuXPvVnu68Qtt6ukfvu6yUWzsop41zdPQ9OXdmShn0GuZVv/M3uRRghtBBP+UA5MHH4g7rnXCFQnryH7vXXX7cBlwGJAeubb75xN954o5s3b54NWgwuwLlx48bZ5MnACrRDBivOM4gyoOaDH8iAZwlj/vz5NiASHwcDIe0mX0gjEwdhjBkzxvLo051EUn6iZfU///M/9pdwObjXlxP3MtkQL6KhZcuWdr4YEPa77767Wfp69Ojh5s6da/ExqTPhMSnEQbmSXiYF8sIzTCIQV/dxEP/NN99sExGTF/ezyKIuEU7062xhQEWqeyyJH3zwQTpORB51zLv96GMcl19+eVooxcFzt9xyi4VB/TAJk69tttnG6o10eAGQBO2GsvTppjx9upPaVVybRchwHwfvKEREMb4ifv1z1A3hxQkj8PlBGIXQ3qh7H36SMIKk/FAm33//vbUR8oUVnIUe8N33NdoxB/khf2vXrrV7gHB8H+QaZUL7TyI6jlU2JI4ifP3111b5gHWIA4HExMg13AHeEvPmm29aw+Xlq2UBKzhEFOnwB985nwQWr2i6gQ6MkgesQ17YTZkyxToKB4Mkf5No3P9S1/qmSa7VVc+7Ws3aps469+2n75mF5vs1X7sN679xtVrsYee/fv1x+1sSvl+5LB3O0qdvsSOOrbat57Ztva9rfMJvLI3Nfj7M1ahZJ3U1d5jIvvjiCxs4GLQYbP3klgRthYGdww8QwITK4MWgOWLECFvBMfhgQQIGJA4GcyYyYMAkfiwKQL1xjoNBkL/AgMnA6r8nwWToB3QGbVaGPMN3xD5pJv2FwOCPkCMMrJAMuh4+c45rtDUvJpLyEy0rBncEhp9cuO4Hd9o3K1WgbvzkwbOUCX8LhYUSzxMHkwt9gknY1/HBBx9sE1AhxNV9vpAmxgDADegtBnGUV91HIT4vzIC6Iy3kAxFIP+NgUs1WJixUiLNfv34mNj2+/WAVp36SxCsgwOLSndSu4toswgFhRzihZYV+TDslfurG5zkfEDLs/cl1UZaUHz+mUDbr16+3z+DLirZOWWWqu3yIjmOVDYmjHMGVRqPh8NYdDj4jjuhICJHSJLQE+YPvnI8DKxEDEZ0KyxGdulhgJcJqg3UIy9G6RckuzK1q1zMLUlmDMFv010vMcsSBpSufPUt+0mDQZxJk0GPyyLSaBb+6z7bKKw8YpJiImBzDwYuVPO2DNJP+QvGTGgcTnRcm9A8WHZxnQmEwrqwgSLwVqDLlJ6x7JuyyqvvSgoUHIstbMkIrR64gaujfPE84tNN8Qfhg+aJ8yTvl4EEMIYratWvnli1bVpBIoBwpT+oL0ZNp/ClGfpJAPNWtW9dEF2IUUVUZRU+uSBzlAKbIPfbYI9FCw0r4gQcecM2aNTOh4n24uKROPPHE1F3JYEHANJ7JAgSFWI4wfRI+bjOEXDH5ftVSsw7VbtnBbdMo2Zz/w9rV9rdO227mYmvQZ5B9Lxbrly80tx4uM1xpWLF++Hb1xni/yeh2ywYdf+zYsWbSZrDxFqRCVvj5QJ2F7g8GO1bAmWCiQMhxfzYYZNu0abPZ6h2wPEAmNwSEK0zi9XsKeJ7PmVbphRKGzUH6fXqTYKKgTPhbLGgDiKNM7qsoCCee8da/TISWDqzSlLGHduGtZYXCeEEYNWvWTFtFoCzr3k/Y3t2EW5K2WMhEjtijfAkrtBzlA6KKuEk7k38hUL/UHWH4MgHGEPY/0V4XL16cOlsYLLQQr5msg1BofkJrYhxc9yKawy/8ktpsdByrbEgc5QDih8aGa4q/NBCEj3dZcSCChg0bZvdjSTrjjDNsRekHIO7nOc5j7eEZrsNrr71mgwPhf/nll+l9QVHytRyF4Z5++unplWIxYLMzbipcao36XuDWfZ5sOUKoLHv+LtfouF+5Fhc94Fa+9YzbsHZN6mrJCdNSe5c901aspU8NdfU6H2FuNXOtDbrDzucDZUwZsp8C1w6TQzaS3Gq54sUXz7NCY19bMVfhCCImknAgpG34dCPuGdABqyNpYEDmL995hmf5zqDvN1kyWHLeu89CsUY5+vOhWy1XCBuRShgcfC4vqxz7LHBRkxeOXNwdYflmup+JnomGPLK/g3HC490rvgyzCZk4CJ/JG7eKt3aVdt1HIV7GLH5AwL385btPT654qwxh0J6YjPMlLG+sP4WGQTlgXWacD+sMFi1aZGNItvx515zfc8Vnznk3mS+rTPt8CsmPr/sw7Li6p7zDds/B+BbGGbbZ6DhW2dCv1YQQQohSAnGDZa28xHyx8O48L3qi37Ohn/JXECSOhBBClBdYVbDKYOXM9iOOygBWrPD/lWEpDH/mnw2JowqCxJEQQghRMahs4kh7joQQQgghAiSOhBBCCCECJI6EEEIIIQIkjoQQQgghAiSOhBBCCCECJI6EEEIIIQIkjoQQQgghAiSOhBBCCCECJI6EEEIIIQIkjoQQQgghAiSOhBBCCCECJI6EEEIIIQIkjoQQQgghAiSOhBBCCCECJI6EEEIIIQIkjoQQQgghAiSOhBBCCCECarRu3XpD6nOVokGDBm7OnDmpb6VHt27dUp+EEEKI0uPtt99Ofap8tG3b1q1YsSL1reIjy5EQQgghRIDEkRBCCCFEgMSREEIIIUSAxJEQQgghRIDEUQzaZC2EEEJsTnWaGyWOIkgYCSGEEPFUlzlS4ihAwkgIIYTITHWYKyWOUkgYCSGEELlR1edMiaONSBgJIYQQ+VGV585qL44kjIQQQojCqKpzaLUXR5X537ELIYQQ5UlVnUPlVtuIBJIQQgiRH1V57pQ4SiGBJIQQQuRGVZ8zJY4CJJCEEEKIzFSHuVLiKIIEkhBCCBFPdZkjJY5ikEASQgghNqc6zY0SR0IIIYQQARJHQgghhBABEkdCCCGEEAFVVhz98MMPrmbNmqlvQgghhCgPmIuZkysTNVq3br0h9blKUadOHbdq1Sq3fPny1BkhhBBClDUNGzZ09evXd998803qTMWnylqOqITtt9/eNWjQwNWqVSt1VgghhBBlAXMvczBzcWUSRlBlLUceLEiY9LbaSturhBBCiLICV9r69esrnTCCKi+OhBBCCCHyQeYUIYQQQogAiSMhhBBCiACJIyGEEEKIAIkjIYQQQogAiSMhhBBCiACJIyGEEEKIAIkjIYQQQogAiSMhhBBCiACJIyGEEEKIAIkjIYQQQogAiSMhhBBCiICCxdGVV17p3n77bTsmTpzojj322NSV/DjkkEPcv/71L/fKK6+4H/3oR6mz+UFaJk2a5M4555zUmf/SqVMnd/vtt7vTTjstdaYwiOOqq65ydevWTZ0pLscff7x77rnn3FtvvWVxecJyDo9nn33W7b///qm78oeyoszCuOK45ZZb3KuvvupOOeWU1BlnZfDYY4+5Z555xso3CukifdxTmhRSJz7f0fIjrJK04zjuvvvudH1Rr8RJPQshhKjYFCyOGjVq5M4991zXrVs3N2HCBHf++ecXNFl3797d3ppfo0YNt88++6TOFo899tjDde7c2XXp0iV1Jn923XVXC4P07bbbbjbBjh8/3p111lmpO0rO//zP/1gZDB482F1//fWps8797W9/c1dffbWJlKVLl7oZM2akv//nP/9J3ZWdgw8+2MJCKOYD8W211Vabld8RRxzhdtppJzd37lz33nvvpc6WLdE6yZcdd9zRDRgwIPWt9OBt1Pfdd5+76667rH4HDhwYKyiFEEJUHAoWR5dccombMmWKfV6yZIlbv369fc4XJgom2Tlz5tgEzKRXTJ588kl3+OGHu9/+9repM/kzb948s5yceOKJJkiaNGnitt9+exMNxaJWrVru66+/NutFCPFhUaJ8vv/+e7du3Tr7/tJLL7k1a9ak7srODjvs4Bo3bmxCNB+oY0RZ27Zt0xaajh07uq233tpNnz7dvpcH0TrJly+//NKE1UknnZQ6Uzps2LDBLViwwD3wwAPuzTffdA0bNnQtW7ZMXRVCCFERKcrsjlhYu3ZtWizlytFHH+2aNWtm1od33nnHJo4DDjjArnn3x/Dhw92LL77o3njjDTds2DB3xx132OfXX399C8GD5erf//63uTBGjRrl2rRps5n7iMn9xhtvtGe554knnrD7uYY7BWGCKwTC76GbiHv79+9vImPQoEHu4Ycfdv/85z/d/fffb88Bn+NcTn379jXrDXFz8JlzhEtaOZLcg1F8mogbyx1hkNbQNeS/X3755W7IkCGWfyx9PNe8eXO7p3Xr1uY2C8ssBOGBMMNShMUIEEfLli0zoUYeqA+eR7RF3UZh2cV932+//Uw4EAYHaaDcCIf7fFlddtlldr8nGg5/KYvHH3/c7n/55Zfd2WefbdfiQNhh1aEuo2456jish/B7Ie0ySp8+fdxrr73mfv3rX9t371q+7bbbLC6fJyGEEOVDicURE3GvXr3MkpEv++67r1lDpk6dauII6xPnQrB2IGg+/vhjcw3Vrl3b3EpYWfi+11572X2IlW233dYmpqefftrtueee7he/+IVd85x++uk2EbGCZ+KcP3++WWzyAZcX4ZPWkSNH2l4mrBhYAwj7yCOPdK1atTLBF7qcmMxxPZL+a6+91v3pT3+y9JJGXGlYzzh69Ojh7r333tRT2SH9f/3rX92pp56aOrMluMZuvvlmszSx/+W4445zCxcutGsI0uuuu87qoH379mkBFEI+sBQhisjfzjvvbIKJ85QF7inyRN6Y+HMFUXLRRRdZ3eGiRGDgIvvJT37ifvrTn7rvvvvOziOYb7rpptRTydSvX99EDy5HnsVimATCCFFJfD//+c9TZ3Mn13bpOeqooywfWFkRrKtXr06LZ+9aRjAJIYQof0okjljlYpG49dZb85rQgYkRIcQkw8qbVTOfmVRC19r777/vXnjhBTdz5kwTJKzMsRAwKW2zzTbpVT/XmFwmT55s15cvX24Tf8jee+/tvv32W7NwMIkSLt9LCmlC6GAF6dq1q7lSsMaEkNcGDRrYxDhu3Dg3duxYE4RY3UhXoSxevNiNGTMm9S1/pk2bZiKB8iDd0TIDhBPliTgirUzkCC4meFyh1P3vfvc7czUionIFMYmoxGWHxejiiy922223naXhs88+M2vVFVdc4c4888wtrDtxrFixwiwwWF6wbPFMVKSEsBfok08+MUGHuMmHXNslf6+55hp3ww03WNlgJXvqqafcBx98kBbUiCRcb7RLxHcmoSuEEKL0KVgcIYwY1LEaMajnCxYKhMHzzz9vK24OrBAIiIMOOih11+ZgZWKvSDaYhOL2A3H+hx9+MBcgMImxSRZwETHJFQJWM0QK5cGxaNEimyijEDfxhHCOfBUDrCElgTKLs6RhIcKqhVjB+oEIwYX6y1/+0vbtPPjgg+7CCy+0MoiCtQorTiYQkrj7/HHeeedZexgxYoSVDRv/ERj5EoqUOEgbbQ5R5604QB1RL7mSqV36Ddm40I455hhztwJCnvbYu3dvcy2/++67ee0hE0IIUXoUJI5wETGZjB49OnXmv7BqRzhlAwGEMMHNg7jiYM8GE82BBx6Yuit3mAiZWFmJn3zyybYBGddPCN9xvbCfhThwCWLxASY3RFOLFi3MkuBdJXGsWrXKrCzEAbjVEAtYQLAG4LaLgpVo5cqVFna/fv0sjViTcG9hRSgGbJzGqkM5kDfcex7iJn+IhaZNm6bO5g6WJZ5lTxLlyF4kypL6wlVEucdZnbiPSZ9fN+J+69mzpwlgIN+kmXLAPUnYWE5wc/EM7QuLIvfssssu9kyxYcM+efN7sAArGW2zQ4cOlq+SWPb8hmwsSyG0988//9wdeuihacsTaM+REEKUPwWJIyZXVrus5v3/ccl1IzHgNmN/C/sz/u///i911lkYTEyIDKxK+YB1AgvA0KFDTdggtO65557U1U3gzmCFzoSHKxAh4d1qTJC4vJjE2YPDvwBIsiSRXyZsfn5/55132jkmN8RH3C/OAPGE6wj43zy/+c1vLK9smkZcFQNcSrij2FN06aWXbpZ+XGOzZs0yNxN7lKi/fOB5XFWUMy41YEMy0A7YN4MAi4N0YZXCenLYYYelLVzkm83rWKLYe4R7ECHyxRdfuIceesg2VvvyfeSRR+xvaUC8CDwPVj+EGwL+j3/8Y+pscUH80Sbq1avnPvrooy3EkxBCiPKjRuvWrTekPlc7zjjjDNuYzSq+pJMgguv3v/+9uaAQJkJkA7H44x//2AQie5GEEEJUDEq0Ibuywb8OYB8Lfzn4j9zsLynk/+SE4Gbk/+3giomzGgkRgnsS1youNSx9/Hd4IYQQFYdqJY7YK8SeItxmHOwZwl2Du61QEEa4lfilGu4Yv+FWiCT4lxL8ug+3Lu7DYrlVhRBCFIdq7VYTQgghhIhSrSxHQgghhBDZkDgSQgghhAiQOBJCCCGECJA4EkIIIYQIkDgSQgghhAiQOBJCCCGECJA4EkIIIYQIkDgSQgghhAiQOBJCCCGECJA4EkIIIYQIkDgSQgghhAiQOBJCCCGECJA4EkIIIYQIkDgSQgghhAiosuLosccec1deeWXqm3P777+/e/bZZzc7d84557gJEya4Y489dov7RWHcfffdbuLEiVamIQ8++KCVd7Ggrt5+++30Qf1VdML2Vp4Uo60TBnWdL+SdfljeZVDa+PHGt89Jkybl3f4p30LKuKwhX/TvfKGMnnrqqYLGhUx9qTTaWLHCLO15hnKhTClbUTKqrDh67733XKdOnVLfnNtvv/1cw4YNXfPmzVNnnGvSpIlbtmyZe+6551JnRDFYt26dO/PMM1PfSo+5c+e6bt262QEVfSK59957XZ8+fbK2t8owwJ166qnuvPPOS32r3JRkks7E+vXr3ciRI619jh492p188skZJ9eqMLGVVR5y7UvlTWmLodJqu6IKi6MlS5a42rVrpztply5d3OLFi00c+XOIJ0SUKC7z5s2zsi/LDks9Nm7cOPVNiIrF1KlT3erVq13Lli1TZ4QQFZkKJY769etnplIOPpcEBiPAYgTbbbede/XVV+0z5xBITOCIKE+jRo3MJRR10zDJYxbnfOgy4p5hw4bFPuPBmhENy5uDSUNoevf3RVcD0e8h0TQQnhd/xO3DDtMduqT8/XHnQvgel9Y41q5d66ZMmeKOP/742HCS8kb6iIP8EAdpHjBgQDreuHSF1KlTx+4JV2rR8vcklQ333n///Vbf3MOBy4B7uMZ9vqw5uM456jSsH+7lWgjXySt58J+Ji3C824UDq1uLFi3ciBEj0nkhPB9nUjlwzpcVR1y+o2R6JswrfykHnyfu82mLhsH5uHLKBnn3/cyHA4RF+L5dRMOLix+4J6w7zvt7fHnz7DXXXGPlPWjQoHT+4+4F/lJvHIRL2vLhkEMOsbQSL/i2c99998XWO2OUz1v4XDTPYb3xOdu45OGaD4PySgo3rg58GrHinH766YltNyQs1+j1sP7Dso2mied8PfjyIO3++k9/+lM75wnjDMvQw3WfTx+XTxvxhC7DI488Mh1WmP64OAizTZs2rn///pvFW8g8E45JHsKLa7tw7rnnWjhh2wXu8ekMwxJbUqHE0UUXXeQaNGhgB59LApMzkzQWIxoZDfLDDz+0c7jTvGjyIgo4d/PNN7urr77a7qdRcfTt29ddeOGFZh5nIAtdRnHPhIwbN87Vr18/3dBJz+zZs82KRcP+9NNPLdySuIZ8Gghj1apVbuDAgXYet4cPe+bMmSY46VAc3tx/3HHH2b3Rc5RfCN85z3U6XjbL0PXXX79ZWnKFsqKz+zRfcMEF7plnnrE44ZhjjrG/IaS9e/fu7q233nKTJ09Ou1M5j6XwpZdesu8hcWXjadasmdW3dxvtuuuuVr64kjDj9+rVy56jzlu1amX3UKfULVDX5IO6z0TTpk2tPRLW9OnTXe/evW2iwQWzYMECyzPl6Ac9n17azODBg+1cSL51RPkktUGunX/++VY2nCf/lEMcpCUMgzTHlZPvA3GQToQweffP8LxPf9guuNauXTu7RjqZmGgj/hptwccV1h3p4h4O0kd5U2Y8Q3nT/rmP8HDZcJ57oy4x6o3nSF+ubh3abc2aNd3zzz9v7jY//nTt2tVc+2efffYW9Q4dOnTYov1nqjdPtnEJ/P0+DNp7pjYU1sHTTz9t5UxaPHFtN4RwKFc/zhAXZemvJY2zce0rhPrq2LFjur5WrlxpafXXGA/8s4QTHZNCLwPlVqtWLde+fXu7Rp8mPEjKf1IctCVc/9wbjqlxdZMp/xAdkyCu7ULcuAKMI1jYOU/9MDb6uhVbUmXdauBdLZiy/d4ivxcJgeQtHB4aJPdwcD/3cNAhWAmhtlkF0En8oBD3TAjnEQkMgjxDg5wxY4Y1YM6PGjUqdaezSZzrvmPmik8D+DCIi8Hcr1DoEJQF+SXfTER+sI87FweDAGFRFpRJNK9RGCizTYpRKBOeg4ULF7r58+fboEsauRbCqsynhwGJQXPatGlWP8TpJ6BQAHviysaDwArbBQLBly8wqfAcExT72Ghf1Kkvd+qatIbPxIFA9vXP836ADvHffZlAVHCH5FNHmdrgQQcdZN+9wCMvlEMU0kBa4oRgXDklQToJn7oG4gsFZ9guwmvkgbBZOcfFFdYdZektENF+HEL+wz5Fmujb1CtQb+PHj7fPmUAM+XQhCoYPH+4efvhha9c+X9lc+0xuvv3Txklbpnrz+ck2LnEf98ctHJLaUFgH9DMgLbkSrWPKkLIErsWNsyyOktqXJ1pf3EtagWt+nOCI9nUIvQzUC/WBQKKM8DjQNyEp/7nEERJXN0n59/UZHZMyETeunHbaaRYe4RJ+LuNDdadCiaPbb7/drVixwg4+lxQ/Ufbs2TOt/sNVQqZBKSTc+MsRZ1nJBAMQgofORzr84FCaMLldfPHFbsyYMZZmVi8eVhisXIYMGZI298adC2HAZKXEioPwKJNs0PkZ0MMVUDEJ68WvqHycTGQMdNRTtK6Y0JPKJhtM+Ax8PEdZ+MGdOqVuqWPqOm7SKW0KqaMkGDSxcPj8JYEIibsvqZxKAyYtbzXg6NGjxxZ9jPaMcGKS4R5W2qS7NAk3ZIdWJiZvyobFCOQitIoNkzrijcVHSDHbUBRERCbixlnKMFs7zCREwAsWf3gLi4fxwQtWRNELL7xgPyrBSsf3uMVVlGxx5EJc/vOZZ7IRtkd/RK1w4r9UKHHEoMEKiyPTSiFX6FA0CEySXv37hl6vXr3N9hslwT08XxLzI3HSyRBps2bNsnOkDeEWmngxf9JJWV1iyfGrSyZcVsNJeDcS+DDIN/jBL7wHGKgvvfRSu89bWOLOeRjYmITorIgLyiQXWMEgRv39PJ9P3gqBuia/DJp+hRfirQpJZZMJwly6dKl9jqaduqWOcx1Qc8EPjqHAxAVIXfjJ1pNvHWVqg//4xz9s8vRuTMLDdRGFfHJf1FWRqZzioJ8Rvu9nxIfrzPdb0uktN+E1P2lm26OIGKBefJ+n/ZHuOMg/YxDxAGnC/RHXlgqBemPyPeKII6yM8p0AM9VbrmGRBtpKdOFSaD/PBeqLevPlStvylqekcTapfYWwyA1dfLQFygcoE9qVjzMJ0ubFG2VDX0bQ5lI/ucaRiWLMM5kgP4y73sUmslOl3Wo0ahouA5GfrDhHIwnPZYIVKGZQbx7n8L76XCFOOhkDrF8lcg4zO53KhwveAoLlYZ999rHz7HdgwMpENAzSjcmW1bI/Dwwg3rWAaZXyoRyi56Irb8QqnZd7sC5lS4+HfHIgRj355i1fyA+DI2UeFRCQVDa5kCntTJ7scWGwJs+F4icE6oKV/NChQy0/xMmBq5JzUfKto0xtkGvsdWHA9+HxK8QocWGQ5nzrONrPqBvcnr4d8jwTYPRaXPxxlk/aAa44Hz4ToV9AEAZtnmvsy2A1jfvHtw8ExNixY2PbEpNZuGE3V5is2rZtu9kiMFrvSWSqt3yItivGtUL7uSdTHqgv6sCXK3XkxW20/n16ktpXCPVFOomT67jCfLqjdRn3PPh0f/LJJ/bdC2EvzjORKQ7GAlxZcW0yJCn/2Yi23UxE6zvc9C22pEbr1q03pD6LUsQ39HwHsGz4TXYyj/4XBiEGJza/+sm1LGCgYRMzg3ncRFrZKa+2VpHL1U+C+ZYJz2GxLMT9IoQofaq05aiiwOAeughE6eJ/GcRqsCxJcndVBYrtWqoqsL/Mu+pyBfGOFQyhKYSomEgclTJYjEI3gCg9mHQwX/tfBmFyLgsQv9RvkrursoKlyJvgM7mWqjP8f598+jUWI9w//teVQoiKidxqQgghhBABshwJIYQQQgRIHAkhhBBCBEgcCSGEEEIESBwJIYQQQgRIHAkhhBBCBEgcCSGEEEIESBwJIYQQQgRIHAkhhBBCBEgcFRles8ALBHN5oR/38F+IL7nkEvfUU09lfDFhSSjNePgP4PzXX8L375ny/6ma/6zsz0UhTdyTSzlF4UWfPi9xb7EO0yIqFpWxbmjjSS8B5Tx5ykamMPJF7VuI0kfiqMjwKgFeX1HoaxYQFkmTfmWBd5vxjrFu3brpFQmiSkG/DBcYvEi6ur08tiqMUUJkQ+JICCGEECKgyr5bjdUNL3xt2rSpfZ87d66t8HDjnH/++W7ZsmVu9913d6NHj3a9e/c2S0eHDh3c9OnT3cKFC13//v3tufXr19s9TZo0sTdpX3311fZCU8K5+OKL7WWc4YsnWU317dvXLCZYUHw4ixcvTj+bRFyaX3rpJQsPGjZs6N566y17wz/hE1YYH98xt+cTp4dweLkob7OHp59+2sKMK69ML9oM41+zZo174oknLH1J9cALYklnmG8fd5gmwrr55ptzssjhdliwYIHbb7/9XN26dTcrh2gZ+7iA59q0aWOfcQliFcAVggUMfBoIj3w+//zzVhaE6b9PnTq14LxQJkOGDLE0g0+Dr2OgDYwfP9717Nlzszrp0qXLFuns16+fa9y4cdqyQTgnn3yypSmsk7AMQqLlMWrUqIx9atasWe6QQw6xa5nCDOvGhxHX9nmJL+cmT56cDsu7piiXXNp6ND7S1bx5cysr37epQ8Lq1KlTuqzC7z7OGTNmbNFHCAtIT6Z2F6Y7UxsMSWozxMMb/TO1q1zzDXHlSNri6pS2F60nwvLtNhq2EJWVKms5YkA67rjjbDA499xzXe3atW0ggfr167uVK1e6Hj16pDtxs2bN3IUXXmiDF4MOz3Ew0CCeGBTo+Aw20LVrV5uckgaB9u3b2yA4cuRIC4e0ZBMpXGdgYlDjOT9QMxBxrVevXm7OnDl2Lg4/oPu08+bvgQMHpq4mQ7kMGDDABjWeIw3Elam8kqDsGEQZNAnjrrvuSqwHT+iG4/CDPhM4dcI59nExCeQK9cREwbOETTl4EfPMM8/YefKJ4GVy95OXTwPtAPjrz82cOdMERyZKkhfaGmXGPaSNt/yTNgjbAJN0tE7i0jlu3Di7z4eBgJo9e7Zr0KDBFmmMElce2fpUixYt7Br1T7lS3nH4uiGPjRo1sjDiwuY+hBFtGgiPCZ7859PWfXz0KV8WPMNCiL6dK5QzfYT+SRrjyi2u3YVkaoMhubSZbPfkku9M5RhXp0CawzGKtkab475cxgghKgNV2q1Gx2fFO2LECOvkWH+AQYuJI4RBmAEaGMD8hmJWVAwSgEWJCQYYUFi9JcGKa+3atSY6ogNfvrCaQ5xlg4mDlT7p5mCwwnKQDcqFwc0PakzSTKI+r3HllQ9J9eBZsmSJa9myZXpCBu7hXp4J6yFpwo3CREE+AOsbZXPQQQeZ5WXQoEEWJitgvh944IF2nfuiUHcTJ07MuTxLmheeC9NGWBBtA9E6iUsn+ec+hHwoLOLSGOLvjSuPTH0K4QDTpk2zv966EMXXDQcLDB9GXNiERVmRPyZ7BCHtNJ+27uObP3++W758ebrc6M/FJq7dhfVMmcS1QV/PnlzaTLZ7csl3pnLMtU4Jj+eoPyGqClVWHNFRWemwwqPjYsnIBQYWBizEEs+xOsJiBAwuDBwIHsgmWFhVsXLD5IzYCge20sIPcP7w1qfyIpd6YLJjxQmk3w+y3BvmJRfrWzYY8Fn5+jCJ98033zS3BJNICBMyrtMxY8bYvayes1GSvCBWaF9cp7wQRLmQKZ1M0FgxQ2GRlEYPE2BceRTap3IhKWwmdy/wsHaw6PBUtLaeK3FtkDqJkkubKUYfKWk5YkHjORaMkyZNSlsThajMVFlxxIqIQYiBgskDt1kuMDHUqlXLVteA9cTvMWCgXrdunTviiCPc0qVLcxqEeObSSy/dzCVXEpiw6tWrlw4rTB8ruI4dO1p+84G88pwf1HiefU1YGUpKPvWA64aJnUGWNHFvoQMtYXiYVCmbN954w75HXWN+Ao66Lfxq3osEHyZ5wSroLWvUBav/kELygjCiXUFcmEkkpRPYA0V7Zo9SKCwgTGNIUnkU2qdyIVPYCDy/sPALkkLbehLUES4+H160THIlfM63u3Cc8II3m3s2lzZT0j4CxSxHRBUuO/oFaSr2vw0RoiypsuIIKw8DB6siLDcMvLnAxIBLyZu9GbS95QiYYNq2bbuZSyMOVuveNYfZm0EobnUYhYGUe4mfTZVRMqWPFRzuMSxfXOOIWgXiIF2Y4ENTPy6aXNKbjVzqgTT69PJvEPyGzjBNHEluoCT8c+D3zLABnMnAX/MWPTb/4pLw54mLNOD28eUZwoS9zz772Hk2Oft8lSQvSWFmI1M6yTOCi4nfC4u4NEaJK49C+1QuZAobgccCIFyQFNrWk8hUhiE+LfTppPh8eoB2F5KpDYbk0mZybVeZKKQco2MUcfpn2SfHxn0hKjtV9tdqpQUDB6vDymLCF8JPmNGJWhSX8FdkQojKTZXekF1sWN2xLyLTRmwhKhK4S4rlIhVCiOqCxFGOYDHClM5PXbUyFJUBLEa4S4rlIhVCiOqC3GpCCCGEEAGyHAkhhBBCBEgcCSGEEEIESBwJIYQQQgRIHAkhhBBCBEgcCSGEEEIESBwJIYQQQgRIHAkhhBBCBEgcCSGEEEIESBwJIYQQQgRIHAkhhBBCBEgcCSGEEEIESBwJIYQQQgRIHAkhhBBCBEgcCSGEEEIEVFlxtP/++7tnn33WPfbYY6kzmzj22GPtHNeLgY/n7bfftmPSpEnunHPOSV0tW4h3woQJlsconCOdcddKg7vvvtuOKJyL1kl1g/zHlU1ZQNxXXnll6lvFoNhpomwJr7TzWlbxlAakmfGqvNphsWA8Y8wrrzG3pGg8rLhUacvR+vXrXbNmzUp94CKekSNHum7durnRo0e7k08+ucxESMi9997r+vTp45577rnUmYrHeeed50499dTUt+pBdPIk/5RDVcELhLIk3zjLI40VFYRE7dq13bnnnlsp22HYnxjrGPMY+yobzBGtWrWyOUNUPKq8W23q1Klm3SmWpSgbxLd69WrXsmXL1BkhhBBic7p27eo+/fTTCr2Yrc7UaN269YbU53KnX79+7qKLLrLPt99+uxs3bpx9LgTEEKuL559/3vXu3dstXbrUVkmo9TPPPNMNHTrU7bfffq5v377u+uuvd1OmTLEVlf/ur/Fc586d3eLFi93DDz9s99StW9fNnTvXLABhPKxe/PfZs2e7ffbZx40dOza9qmHF49Ph4f5rrrnGNW3a1L4TLmnj3OTJky0t4M3fPEv4/fv3t+9YrVh5EEeYfvLDM1iz4MMPP3SNGjVyw4cPt+9DhgyxfITPh5DWBQsWWDlw39NPP+2aN29u4YXPJKUlTC+fKQuudenSZbPzrGCx7pF/yvjqq6+2tFNPPo1r1qxx8+bNcytXrtys7CAp/vB5f37+/PlbnIOStgHiOv/8892sWbPcIYccYmHisiCtlGObNm3snM/f4MGD3XvvvWdxEBbtsWbNmnYP5cz5uDD9tWib8edDwrqn/G6++WYbhKP1GpY5xKWXa5z3aQb/HeLKH6LtkWfi+iHlEaYp7FvRvsH5pDpPIu5+xoRVq1a5Dh06uOnTp7vGjRvH5i/X8o4j2r5pEwsXLkynJQwnTGNY7rnWY1KZRdMatjdfFizo4soZiCcsp7D/hX0MfJv39e77TaY6iss36Uhq+6QnbJ+Mu8TFuMaClM/QsGFDKyvO+fyG5ReS1J58PoDwxo8f73r27OmWLVvmdt99d3PnUd7RcqPOaE++DAkHb8Ktt966WdxhG4OwbpLSGraHcEyP3idKToWyHCGMGjRoYIcXScWAxt6uXTtrfPlAo1+7dq01RgYInqfB0oFplHHhHXPMMda4afgIJC8GGEjq16+/heBjADzuuOMsDszcDKYMeAijTp062T10QITJjBkzrCNjRiYNPEPe4tx43NexY8f0fQgL4gdE6MyZM+18jx49EicW0kF+cRn68HmGQZLJBejYnOOgg/rzHtKB6fjCCy+MjYdB95lnnrG8A+VHfhkcfRpJw6677mrXoyTFH5fHXPMdkmsboGxbtGhh93HNtzcGSAZNBnfq2YsQ4PqAAQOsDv1zvXr1ig2T57t3725lQxmRFs5zhJOfh0nKXyfP5N3j65VrhDNw4EA7T5sF/xyrWoRLJoibtJHHaJkiRukLlKFv/7Rj8sCqGXx5+DSF5RrXNzifKc44ku5HtNAuwwk/CmmlDdNGSQfpox6i/S0J3755jv5InyacsD4J35/35e7rJJd6DMssW9sg77Q3hBV598KIOP0zwCTsSSon+hvtlWdIA/3cl0vYb8LxIiRTvpPafrQ/8TmEeGk3pMuLJdJOOIgZxEcUysinITqGheEx/pIuxlLaEXmOa5+M8dzny4I5gLkgFDDkhfuXLFli33kuW1ozjemi+FSLX6vRKCdOnBjbQTPBymTUqFH2mVUQgxNhcR7XmYcJYNCgQbZyQrig5OlQdKZwMmDQCjuIh0bPsyNGjLABoUmTJm7atGnpDsYgSEdgYCM8Oo4Ph3OsZPxk44neR4clfmD1Suci3kz455nkli9fnhZ2PO8hb35DOqsv0sw5QCAwqNGZ/SQYhYGTPHCdwZF0MyCBj480UPZxJMUfl8dc8x2SaxugbJl0gOuhME6CeiY8P1lHnwvDpD0AZcOAysAfTmBRaDe0ecqFPLOS9YTt4qWXXrIyP+200+y7jw+ig3y+EAd5oG1yLFq0yCZM8kCc3vIEPk0ctGfKBuL6RrFgAZLULj2kFauB798ICb7n6jb37Zv2Qh+ivIE6xEoBlAXWEMKP1lcu9RiWWS5tI4T8UUe+jYNvE74fZyon4okrl7DfMA4iBHx4nkz5Tmr72SBeLDxAedBmaDuEHx2fPEljCIThAeny4xLEtc+w3RMO+aQMMpFLWgnHjz8Qjumi+FQocYQrbcWKFXbwuZjQwGlsRx55ZOpM8WCQ8xuyWWH4xsugiKhB3LRv3z49MIbQuRAQrDx43q+Ewg6GqMPEnA/hIBrFr5RYtZXk13V0XAZFBk/Cowz8gA+1atWyI5dBLYQBlnAYmDKRKf64PBYr3+UN7YqVKzCQRsUeE+rFF1/sxowZY/lllV1eIIAobywbb731lgnMgw8+2Nqnn/SSSOobZQ390K/WOXKxVuUL9ejD58BCUkg9ZmsbxQRhRD2SNuooW3+NIy7fxYQ2E4Yftd5mG8Mykal9MtYz5ocL22xkSytlHS5MRelSocQRShjLC0eozosBjQzzNgM1qxjAIlKvXj1rwMCKHStQMUHU4KdGJGDCjsJqgMGX9DEYYsL20MH8ysGvXugclI9fzTPBM/FEJxomJW+KBszxiMMQBiJWttksHEkgesiXNw1Hy49VDqte9iX49OYC5UQ4uAiAZzEnR8kWP8TlMTxXrDZA2XrrHenFapZttUi6yZcXabk+58HNwYRJmw7xq3fyBtHr4XeEN22KvVQQmvJpM7RNhDqixj9HOsN2mgnaJf2NlTH1St4OOOAAt27duvQiIolMfaPYJOXPT/ihO6vYUP60A+INyVaPmUhqG1HIH23Xu7PAt4lwYo6DyZpyA/oPlqN8SMp3saB/UY+ZFkG5jCFJZGqftHXCZeyPW9jyDFZU+gUkpZXx+6mnnrLzmcZ0hJp3i4viUC3cah7UO+Zn3/gZnHFjeJM5jT3XVUOuMDmwX4aGHTfYIALpFMSPiKCzebxIYADyz2L9QHSw2uEZJjM2fUcnGu4jLG+m3W677dJhe1M4B/sEQpN6PuRSfqQD8z/pzXUVS14Rsgw4hEu5sCE7Sqb44/IYd65YbYCyZeAiDPKKKPSrReoeMzmmez+wAdcpm9BlEz6XBOXo84FQDl1h4Nu5byNx+OfB7yVhczSDrb9GGXEOMrVT2jjX4qxxlC+TAKtn6pU2jTDKxRJaaJxxZLs/KS7SjJucSdyXS7QeS0q0T3NQx7nUY5RsbSNKXP4gur8oDhZv/NCCZ9j3GNZPLiTlOxthf/Kbs+OI9i8OxoCQkvT/TO2TcmXcZuEauuVCuE58kEtaM43pIQ8++GBOfUJkpkL9Wq0qwgTP5mL9oqBkRH/ZUZFQHQshonhxkyQ0SzpuIIDYxM2YiBgDRDtuPgSUPycKo1pZjsqD0DUhCoNBIM51KIQQFRGETzYXOXMCP0KJ+wVdLsS5P3Fv4s6TMCo5shyVEnQOb2rN9GstEQ+WIm8yx8yNeyCbu6m8kOVICOHBYsSGavZ8FdPSzSIRIeW3hbCBu9gb2MV/kTgSQgghhAiQW00IIYQQIkDiSAghhBAiQOJICCGEECJA4kgIIYQQIkDiSAghhBAiQL9WE5WeHXfc0f6zc40aNVJnSocNGzbYv2b48ssvU2eEEEJURWQ5EpUahBH/Rr+0hREQB3ERpxBCiKqLxJGo1PgXL5Yl5RGnEEKIsqNaiSP+kzEvK+RvseC/lvLW5LgXUfISxXzelBymr5C08p9Zoy8rrOiUNM1lYTGKUuw4aSOVod5Io38pJmmmzdNGc3lZqBBCVCZkORJFhUlTk2V+8AqAXN6CHkdZlTdC6Ntvv7XXIvBiS6xnxxxzjHvmmWfsWtziQAghKisSR6JKMWzYMPf4449vdvzyl79MXRWFwrsBL7nkktS3Te+7W7JkiZs6dap954WXQghRVaiy4sib/L0bIFxdH3nkkbHncZFNmjRpi2tR11mSKy2Mk3Bat26durI50bTl43qDTHnzJN3j037//ffbee4ZMGCAmzhxon0P0xKWB9e9i497ECHRZ/jLy2L79+9v4Z522mlZ0wm1a9dO3xfGA4Tpn8/F9cQEfsopp7jPPvvMvfTSS/b5nnvucb///e/dzTffbC+wRTCR/r333tvdeeed6Zc3IqI47z97ceXPZYP8+bRSbpQf+DLniOYPyCPPRttV+J1nfHn7sKPl7Z/zRNuAryfgc1wdAmHH1btn8ODBJpZ4ETB/eTN4ly5dUleFEKLyU2XFESZ/fnaNG4DDvx0Zd0CLFi3Sb03u3r27TSJMCIgEJk+u8Sb9Xr162flcYdLwcV544YWuWbNmqSubw4Ry3HHH2X24KBAHucZDWplIcWf4dJKHcALLdk/Tpk3d2rVr7RrpJW6EA/c1atTIvnP07dvX8sF9EyZMsDdCe7AURJ9BZPCmaMqV/CEO4+ogSocOHdJpnTlzZjoeJuz33nvPzlNOzZs3z7mc4qA+EIV33XWXq1u3ruvcuXPqyuYceuihbo899nDXXnutiSvIZn2ivPv06WPlQXppRyeffPJmZU6906YKeXN/v379rGwIu0ePHiZMouVN+B7awDXXXOM+/fRTe4YDQoEZV4fZ6p3nly5dulldIo4aN26c+iaEEJWfKiuOMPm3bNlyC2sDkzUTF0ybNs3+MnE1adLEJh8mHWACmz17ds4r4vbt29tfHzYT1eTJk+1zHN7KMGLECBNrxJ8LpLVhw4Zu0KBB9jwTIN/JqyfbPYsXL3ajRo2yz0x05Jv8cn716tV2nvSQLtJHGFgnEJZMusCkyTMcy5Yti01/Uh1EmT59errcx40bZ/FccMEF9pd4CymnOObMmeNeffVVOxA77777burK5uy1115ul112cVdddZVZjvicDYSbLxMgP5RL165d7TtlO378ePtcCAgQxArtJhdoA7R1X8+AJY10ZqrDbPXOvzKYMWOGfRZCiKpKlRVHTE6ssIFBPtdJpVAQH0wiuUBasORgDWHCY/WfD0x63kLB4S0JIbnckw3S5Z/niFonslHSOmBfy8iRIzdLQ5L1qdjglsNq5A9cc+UJ+Sb/nTp12sxlVxpkqvfTTz8973YkhBCVjSq/IZtfAeF2YFLJBFaOjh07picd3CHt2rWzVfL8+fNdvXr10ptOsSbVrFnTPnveeOMNEyS4P4CVNgIoDlbv3MuEQzxJ7rc4sECAjyeOXO7JBuVBuooxCWerg1atWqUtE6SZssH1heuvd+/edr40eP/9902AIWxxpfn6Wr58udthhx3sXK5g2cGt5t1olBuuKm+dzIVc2hmuNCxt2SyatAHE+sCBA1NnnJUl6cwkcLPVO67OqCWQ9owFErhe2gsRIYQobaqsOGKAxlrBwaTl3V1JsBrGzRC6otiMynncDrjY/DUmAybVKMSBwOKeO+64wy1atCh1ZXNwHTEBcd+QIUNMDOQKE9vw4cPT8XBEN+Pmck82ouXBkc09BuwR8huEb7vttvSzmeqAsqS8uA+hNHToUDvPXyZ4H0bc5uCS8tFHH5lowM02b948O8cE/8knn5hrD7famDFj0pu2k8Cyg3uSdkNa2aczduzYtJstFzK1M8relwNl5N1lYXlnawOQ7V8G5FvvxEk65WoTQlQl9G41UalJ+kVgafPxxx+nPpUcv/G8rFyGxQQLExu4SXsmi5QQQlQmqrxbTVRteBlsWVPMOLGEYR3Lx/1WUcBqdPzxx5sokjASQlQlZDkSlRr/4tmyZOXKlSV+Mz/CAhccvyrDdVXof8gWQghRfCSORKUHgYT1pbTfs4bFiP1hJRVGQgghKjYSR0IIIYQQAdpzJIQQQggRIHEkhBBCCBEgcSSEEEIIESBxJIQQQggRIHEkhBBCCBEgcSSEEEIIESBxJIQQQggRIHEkhBBCCBEgcSSEEEIIESBxJIQQQggRIHEkhBBCCBEgcSSEEEIIESBxJIQQQggRIHEkhBBCCBEgcSSEEEIIESBxJIQQQgiRxrn/DzGFjHgST8sQAAAAAElFTkSuQmCC)"
      ],
      "metadata": {
        "id": "aKD0xmkWuLh4"
      }
    },
    {
      "cell_type": "markdown",
      "source": [
        "**Task#4**\n",
        "\n",
        "To use these operators with Numpy, you will need np.logical_and(), np.logical_or() and np.logical_not().\n",
        "\n",
        "Here's an example on the my_house and your_house arrays from before to give you an idea:\n",
        "\n",
        "a. Which areas in my house is greater than 13 and is less than 15 in your house.\n",
        "\n",
        "np.logical_and(my_house > 13, your_house < 15)\n"
      ],
      "metadata": {
        "id": "HNBAK7NZlc-H"
      }
    },
    {
      "cell_type": "code",
      "source": [
        "import numpy as np\n",
        "\n",
        "my_house = np.array([18.0, 20.0, 10.75, 9.50])\n",
        "\n",
        "your_house = np.array([14.0, 24.0, 14.25, 9.0])\n",
        "\n",
        "np.logical_and(my_house > 13, your_house < 15)"
      ],
      "metadata": {
        "colab": {
          "base_uri": "https://localhost:8080/"
        },
        "id": "OV21PyqPku5c",
        "outputId": "5f9f115c-cc63-44e8-b5ec-cd48e2620393"
      },
      "execution_count": 13,
      "outputs": [
        {
          "output_type": "execute_result",
          "data": {
            "text/plain": [
              "array([ True, False, False, False])"
            ]
          },
          "metadata": {},
          "execution_count": 13
        }
      ]
    },
    {
      "cell_type": "markdown",
      "source": [
        "b. Which areas in my_house are greater than 18.5 or smaller than 10?"
      ],
      "metadata": {
        "id": "DarowgiillUD"
      }
    },
    {
      "cell_type": "code",
      "source": [
        "np.logical_or(my_house > 18.5, my_house < 10)"
      ],
      "metadata": {
        "colab": {
          "base_uri": "https://localhost:8080/"
        },
        "id": "WEIBewJAlPJ2",
        "outputId": "b0ac8f79-12ef-4030-c7de-f9653a4e9024"
      },
      "execution_count": 14,
      "outputs": [
        {
          "output_type": "execute_result",
          "data": {
            "text/plain": [
              "array([False,  True, False,  True])"
            ]
          },
          "metadata": {},
          "execution_count": 14
        }
      ]
    },
    {
      "cell_type": "markdown",
      "source": [
        "**Task # 5**"
      ],
      "metadata": {
        "id": "ztUj4Hy8l9Sy"
      }
    },
    {
      "cell_type": "markdown",
      "source": [
        "The Correct Way: NumPy Logical Functions\n",
        "Use NumPy's element-wise logical functions or bitwise operators:\n",
        "\n",
        "Element-wise Logical Operators:\n",
        "\n",
        "& (element-wise AND)\n",
        "| (element-wise OR)\n",
        "~ (element-wise NOT)\n",
        "\n",
        "\n"
      ],
      "metadata": {
        "id": "fhTT1Qoyubi2"
      }
    },
    {
      "cell_type": "code",
      "source": [
        "import numpy as np\n",
        "\n",
        "arr1 = np.array([True, False, True])\n",
        "arr2 = np.array([False, True, True])"
      ],
      "metadata": {
        "id": "OcJkDD_ymKr-"
      },
      "execution_count": 15,
      "outputs": []
    },
    {
      "cell_type": "markdown",
      "source": [
        "\n",
        "\n",
        "# Element-wise AND\n"
      ],
      "metadata": {
        "id": "JizETd5umpAj"
      }
    },
    {
      "cell_type": "code",
      "source": [
        "result_and = arr1 & arr2\n",
        "\n",
        "result_and"
      ],
      "metadata": {
        "colab": {
          "base_uri": "https://localhost:8080/"
        },
        "id": "Xx0D1D8FmKmY",
        "outputId": "173bdac7-7896-4755-f6ed-01a9a702f7ff"
      },
      "execution_count": 17,
      "outputs": [
        {
          "output_type": "execute_result",
          "data": {
            "text/plain": [
              "array([False, False,  True])"
            ]
          },
          "metadata": {},
          "execution_count": 17
        }
      ]
    },
    {
      "cell_type": "markdown",
      "source": [
        "# Element-wise OR"
      ],
      "metadata": {
        "id": "BQJhZtAsmrEz"
      }
    },
    {
      "cell_type": "code",
      "source": [
        "result_or = arr1 | arr2\n",
        "\n",
        "result_or"
      ],
      "metadata": {
        "colab": {
          "base_uri": "https://localhost:8080/"
        },
        "id": "cFqIf-6kmKfH",
        "outputId": "a003b6a2-ce9a-4f78-b5e2-a14bf3822503"
      },
      "execution_count": 18,
      "outputs": [
        {
          "output_type": "execute_result",
          "data": {
            "text/plain": [
              "array([ True,  True,  True])"
            ]
          },
          "metadata": {},
          "execution_count": 18
        }
      ]
    },
    {
      "cell_type": "markdown",
      "source": [
        "# Element-wise NOT\n"
      ],
      "metadata": {
        "id": "HwGMSAS9mulr"
      }
    },
    {
      "cell_type": "code",
      "source": [
        "result_not = ~arr1\n",
        "\n",
        "result_not"
      ],
      "metadata": {
        "colab": {
          "base_uri": "https://localhost:8080/"
        },
        "id": "SMKcWKCvmKYr",
        "outputId": "ba4337b5-cfe0-427b-cbbd-b0301fc57c00"
      },
      "execution_count": 20,
      "outputs": [
        {
          "output_type": "execute_result",
          "data": {
            "text/plain": [
              "array([False,  True, False])"
            ]
          },
          "metadata": {},
          "execution_count": 20
        }
      ]
    },
    {
      "cell_type": "markdown",
      "source": [
        "**Task # 06**\n",
        "\n",
        "NumPy Logical Functions:\n",
        "\n",
        "\n"
      ],
      "metadata": {
        "id": "C-ui74E0ugV0"
      }
    },
    {
      "cell_type": "code",
      "source": [
        "import numpy as np\n",
        "\n",
        "arr1 = np.array([True, False, True])\n",
        "arr2 = np.array([False, True, True])\n",
        "\n",
        "np.logical_and(arr1, arr2)\n",
        "\n",
        "np.logical_or(arr1, arr2)\n",
        "\n",
        "np.logical_not(arr1)\n",
        "\n",
        "result_and = np.logical_and(arr1, arr2)\n",
        "\n",
        "print(result_and)\n",
        "\n",
        "result_or = np.logical_or(arr1, arr2)\n",
        "\n",
        "print(result_or)\n",
        "\n",
        "result_not = np.logical_not(arr1)\n",
        "\n",
        "print(result_not)\n"
      ],
      "metadata": {
        "colab": {
          "base_uri": "https://localhost:8080/"
        },
        "id": "oA83xGkKm82C",
        "outputId": "f78062a4-c9cb-48c1-c9bf-9edcb15fff3a"
      },
      "execution_count": 23,
      "outputs": [
        {
          "output_type": "stream",
          "name": "stdout",
          "text": [
            "[False False  True]\n",
            "[ True  True  True]\n",
            "[False  True False]\n"
          ]
        }
      ]
    },
    {
      "cell_type": "markdown",
      "source": [
        "Which areas are smaller than 11 in both my_house and your_house?"
      ],
      "metadata": {
        "id": "hx35wSE5l5vR"
      }
    },
    {
      "cell_type": "code",
      "source": [
        "np.logical_and(my_house < 11, your_house < 11)"
      ],
      "metadata": {
        "colab": {
          "base_uri": "https://localhost:8080/"
        },
        "id": "ZkVzRBgmnhYb",
        "outputId": "0ace011c-894a-4878-8e6d-4ed2c9c2e01c"
      },
      "execution_count": 24,
      "outputs": [
        {
          "output_type": "execute_result",
          "data": {
            "text/plain": [
              "array([False, False, False,  True])"
            ]
          },
          "metadata": {},
          "execution_count": 24
        }
      ]
    },
    {
      "cell_type": "markdown",
      "source": [
        "**Task # 07**\n",
        "\n",
        "Conditional Statements\n"
      ],
      "metadata": {
        "id": "OQiDVN0emX8g"
      }
    },
    {
      "cell_type": "markdown",
      "source": [
        "**IF-EXAMPLE**\n",
        "\n",
        "\n",
        "To experiment with if have a look at this code sample:\n"
      ],
      "metadata": {
        "id": "woEZ2JH8mbQB"
      }
    },
    {
      "cell_type": "code",
      "source": [
        "area = 10.0\n",
        "\n",
        "if(area < 9) :\n",
        "  print(\"small\")\n",
        "print(\"large\")\n"
      ],
      "metadata": {
        "colab": {
          "base_uri": "https://localhost:8080/"
        },
        "id": "xyBygsxIoWwB",
        "outputId": "5b4fa4d5-c1d9-4a78-cdce-d1209db100b9"
      },
      "execution_count": 28,
      "outputs": [
        {
          "output_type": "stream",
          "name": "stdout",
          "text": [
            "large\n"
          ]
        }
      ]
    },
    {
      "cell_type": "markdown",
      "source": [
        "Two variables are defined in the sample code:room, a string that tells you which room of the house we're looking at, and area,the area of that room"
      ],
      "metadata": {
        "id": "5Wor9OaKmrro"
      }
    },
    {
      "cell_type": "markdown",
      "source": [
        "a. Use an if statement that prints out \"Looking around in the kitchen.\" if room equals \"kit\"."
      ],
      "metadata": {
        "id": "bRHNnwGom1x5"
      }
    },
    {
      "cell_type": "code",
      "source": [
        "room = \"kit\"\n",
        "\n",
        "if room == 'kit':\n",
        "  print(\"Looking around in the kitchen.\")\n",
        "print(\"room is not equal to 'kit'.\")"
      ],
      "metadata": {
        "colab": {
          "base_uri": "https://localhost:8080/"
        },
        "id": "WWXyFeoXpAdg",
        "outputId": "3ac32056-f830-4772-ff04-123e6a60b6be"
      },
      "execution_count": 30,
      "outputs": [
        {
          "output_type": "stream",
          "name": "stdout",
          "text": [
            "Looking around in the kitchen.\n",
            "room is not equal to 'kit'.\n"
          ]
        }
      ]
    },
    {
      "cell_type": "markdown",
      "source": [
        "b. Write another if statement that prints out \"big place!\" if area is greater than 15"
      ],
      "metadata": {
        "id": "keNYv2i_nDVk"
      }
    },
    {
      "cell_type": "code",
      "source": [
        "area = 14.0\n",
        "\n",
        "if area > 15:\n",
        "  print(\"big place!\")\n",
        "print(\"area is not greater than 15.\")"
      ],
      "metadata": {
        "colab": {
          "base_uri": "https://localhost:8080/"
        },
        "id": "-P-RYHG1psim",
        "outputId": "3f2deae2-9812-4d80-aa64-49d1e0c23f9b"
      },
      "execution_count": 31,
      "outputs": [
        {
          "output_type": "stream",
          "name": "stdout",
          "text": [
            "area is not greater than 15.\n"
          ]
        }
      ]
    },
    {
      "cell_type": "markdown",
      "source": [
        "c. Add an else statement so that \"pretty small.\" is printed out if area > 15 evaluates to False.\n"
      ],
      "metadata": {
        "id": "JdnyYvuLnjkR"
      }
    },
    {
      "cell_type": "code",
      "source": [
        "if area > 15 :\n",
        "  print(\"big place!\")\n",
        "else :\n",
        "  print(\"pretty small\")"
      ],
      "metadata": {
        "colab": {
          "base_uri": "https://localhost:8080/"
        },
        "id": "XKl4CQa6qM-Y",
        "outputId": "a28d33ff-d7b0-4a9e-878d-eca8e57ff8d0"
      },
      "execution_count": 33,
      "outputs": [
        {
          "output_type": "stream",
          "name": "stdout",
          "text": [
            "pretty small\n"
          ]
        }
      ]
    },
    {
      "cell_type": "markdown",
      "source": [
        "****"
      ],
      "metadata": {
        "id": "CsZUDcO1nwYP"
      }
    },
    {
      "cell_type": "markdown",
      "source": [
        "# if-elif-else construct for room\n"
      ],
      "metadata": {
        "id": "6n9DnnQxnyjI"
      }
    },
    {
      "cell_type": "markdown",
      "source": [
        "**Task # 08**\n",
        "\n",
        "a. What is printed to the console when the variable `room` is assigned the value \"bed\"?"
      ],
      "metadata": {
        "id": "Mq3v_iXkrlXv"
      }
    },
    {
      "cell_type": "code",
      "source": [
        "room = \"bed\"\n",
        "\n",
        "if room == \"kit\" :\n",
        "  print(\"looking around in the kitchen.\")\n",
        "elif room == \"bed\":\n",
        "  print(\"looking around in the bedroom.\")\n",
        "else :\n",
        "  print(\"looking around elsewhere.\")"
      ],
      "metadata": {
        "colab": {
          "base_uri": "https://localhost:8080/"
        },
        "id": "sJnpwPMSq5P9",
        "outputId": "cd15c0dc-7cfa-4ba0-c877-9d3dacad90cd"
      },
      "execution_count": 34,
      "outputs": [
        {
          "output_type": "stream",
          "name": "stdout",
          "text": [
            "looking around in the bedroom.\n"
          ]
        }
      ]
    },
    {
      "cell_type": "markdown",
      "source": [
        "b. Add an elif statement so that \"medium size, nice!\" is printed out if area is greater\n",
        "than 10.\n"
      ],
      "metadata": {
        "id": "eLW975iVoQUc"
      }
    },
    {
      "cell_type": "code",
      "source": [
        "area = 14.0\n",
        "\n",
        "if area > 15 :\n",
        "  print(\"big place!\")\n",
        "elif area > 10:\n",
        "  print(\"medium size, nice!\")\n",
        "else :\n",
        "  print(\"pretty small\")\n"
      ],
      "metadata": {
        "colab": {
          "base_uri": "https://localhost:8080/"
        },
        "id": "CScghHNWq5IY",
        "outputId": "c6e18059-9a6f-4750-d229-7524e5fa540a"
      },
      "execution_count": 35,
      "outputs": [
        {
          "output_type": "stream",
          "name": "stdout",
          "text": [
            "medium size, nice!\n"
          ]
        }
      ]
    },
    {
      "cell_type": "markdown",
      "source": [
        "**PANDAS SERIES**"
      ],
      "metadata": {
        "id": "_mWl1ekAnyBH"
      }
    },
    {
      "cell_type": "markdown",
      "source": [
        "Both Pandas Series and NumPy arrays are widely used for numerical and data analysis in Python, but they have distinct purposes and features. Here's a detailed comparison:\n",
        "\n",
        "1. Basic Definition\n",
        "NumPy Array:\n",
        "A homogeneous collection of data elements, where all elements must be of the same data type (e.g., integers, floats). It is primarily designed for numerical computations.\n",
        "\n",
        "Pandas Series:\n",
        "A one-dimensional labeled array capable of holding any data type, including mixed types. It has an index for each element, making it more flexible for working with labeled data."
      ],
      "metadata": {
        "id": "xp5lRIEBI9ll"
      }
    },
    {
      "cell_type": "markdown",
      "source": [
        "import numpy as np\n",
        "\n",
        "arr = np.array([10, 20, 30])\n",
        "\n",
        "print(arr[0])  # Access by position\n",
        "\n",
        "\n",
        "import pandas as pd\n",
        "\n",
        "series = pd.Series([10, 20, 30], index=[\"a\", \"b\", \"c\"])\n",
        "\n",
        "print(series[\"a\"])  # Access by label\n",
        "\n"
      ],
      "metadata": {
        "id": "WlcgO85GJEie"
      }
    },
    {
      "cell_type": "markdown",
      "source": [
        "Create pandas pd_ser series using the given array and print out type of pd_ser.\n",
        "ser=['g','e','e','k','s','f','o','r','g','e','e','k','s']"
      ],
      "metadata": {
        "id": "Dmx6y91_ozzK"
      }
    },
    {
      "cell_type": "markdown",
      "source": [
        "ACCESS SERIES - FROM DATAFRAME"
      ],
      "metadata": {
        "id": "M9XBVC6Zo8ra"
      }
    },
    {
      "cell_type": "markdown",
      "source": [
        "Syntax: pd.Series(df[‘columeName’])"
      ],
      "metadata": {
        "id": "9TNkazB6o-Gq"
      }
    },
    {
      "cell_type": "markdown",
      "source": [
        "Extract the drives_right column as a Pandas Series and store it as a variable dr.\n",
        "Use dr, to subset the cars DataFrame and store the resulting selection in a variable sel.\n",
        "Print sel, and assert that drives_right is True for all rows.\n",
        "['https://raw.githubusercontent.com/Masadn/PythonCourse/master/dataset/cars.csv',]"
      ],
      "metadata": {
        "id": "qNJOtWQ9pMO1"
      }
    },
    {
      "cell_type": "markdown",
      "source": [
        "**take home**\n",
        "\n",
        "\n",
        "1. Titanic Dataset (Survival Analysis)\n",
        "Dataset: Titanic Dataset (https://raw.githubusercontent.com/datasciencedojo/datasets/master/titanic.csv)\n",
        "\n",
        "Questions:\n",
        "\n",
        "Load the Titanic dataset and print the first five rows.\n",
        "\n",
        "Find out how many passengers survived (Survived column).\n",
        "\n",
        "Calculate the percentage of passengers who were in the First Class (Pclass = 1).\n",
        "\n",
        "What was the average age of passengers on board?\n",
        "\n",
        "Filter passengers who:\n",
        "\n",
        "Were older than 30 and male.\n",
        "\n",
        "Paid a fare greater than $50."
      ],
      "metadata": {
        "id": "Ve3BEDfvvF97"
      }
    },
    {
      "cell_type": "markdown",
      "source": [
        "**Q2:**\n",
        "\n",
        "2. Global COVID-19 Dataset\n",
        "Dataset: COVID-19 Dataset (https://raw.githubusercontent.com/datasets/covid-19/master/data/countries-aggregated.csv)\n",
        "\n",
        "Questions:\n",
        "\n",
        "Load the dataset and display the column names.\n",
        "\n",
        "Find the total number of confirmed cases globally.\n",
        "\n",
        "Identify the country with the highest number of confirmed cases on 2021-01-01.\n",
        "\n",
        "Calculate the daily increase in cases for the United States.\n",
        "\n",
        "Plot a graph of confirmed cases over time for a specific country (e.g., India).\n"
      ],
      "metadata": {
        "id": "OIOwCDNVvgAh"
      }
    },
    {
      "cell_type": "markdown",
      "source": [
        "**Q3:**\n",
        "\n",
        "3. FIFA Players Dataset (Player Performance)\n",
        "Dataset:https://www.kaggle.com/datasets/stefanoleone992/fifa-22-complete-player-dataset\n",
        "\n",
        "Questions:\n",
        "\n",
        "Load the dataset and display the top 5 players with the highest Overall rating.\n",
        "Find the average rating (Overall) for players under 25 years of age.\n",
        "Identify the player with the highest Value and display their attributes.\n",
        "Filter all players who play as a goalkeeper (GK) and sort them by their Overall rating.\n",
        "Find out how many players have a Potential greater than 90."
      ],
      "metadata": {
        "id": "9NUL6xEVv1tK"
      }
    },
    {
      "cell_type": "markdown",
      "source": [
        "\n",
        "\n",
        "**Boston Housing Dataset (Property Analysis)**\n",
        "Dataset: Available via scikit-learn or online (https://raw.githubusercontent.com/selva86/datasets/master/BostonHousing.csv)\n",
        "\n",
        "Questions:\n",
        "\n",
        "Load the dataset and display the column names.\n",
        "Find the average value of properties (medv) in the dataset.\n",
        "Filter and display all properties with more than 6 rooms (rm > 6) and a value greater than $30,000 (medv > 30).\n",
        "Identify the property with the highest medv value and display its attributes.\n",
        "Plot the relationship between the number of rooms (rm) and the property value (medv)."
      ],
      "metadata": {
        "id": "MT-OT8lRxYIh"
      }
    }
  ]
}