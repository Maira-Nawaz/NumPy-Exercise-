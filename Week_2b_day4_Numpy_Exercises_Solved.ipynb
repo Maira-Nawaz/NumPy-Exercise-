{
  "cells": [
    {
      "cell_type": "markdown",
      "metadata": {
        "id": "OoEukyN1Zf1E"
      },
      "source": [
        "# NumPy Exercises\n",
        "\n",
        "Now that we've learned about NumPy let's test your knowledge. We'll start off with a few simple tasks, and then you'll be asked some more complicated questions."
      ]
    },
    {
      "cell_type": "markdown",
      "metadata": {
        "id": "mf5bAm6IZf1H"
      },
      "source": [
        "#### Import NumPy as np"
      ]
    },
    {
      "cell_type": "code",
      "execution_count": 2,
      "metadata": {
        "id": "9zaUvgjOZf1I"
      },
      "outputs": [],
      "source": [
        "import numpy as np"
      ]
    },
    {
      "cell_type": "markdown",
      "metadata": {
        "id": "5ebOpsYeZf1K"
      },
      "source": [
        "#### Create an array of 10 zeros"
      ]
    },
    {
      "cell_type": "code",
      "source": [
        "np_array = np.array([0,0,0,0,0,0,0,0,0,0])"
      ],
      "metadata": {
        "id": "-A6-bBi01iFj"
      },
      "execution_count": 4,
      "outputs": []
    },
    {
      "cell_type": "markdown",
      "metadata": {
        "id": "0AbBIGtQZf1M"
      },
      "source": [
        "#### Create an array of 10 fives"
      ]
    },
    {
      "cell_type": "code",
      "source": [
        "np_array = np.array([5,5,5,5,5])"
      ],
      "metadata": {
        "id": "PRRp3sp41rgS"
      },
      "execution_count": 5,
      "outputs": []
    },
    {
      "cell_type": "markdown",
      "metadata": {
        "id": "YBxbrx8EZf1N"
      },
      "source": [
        "#### Create an array of the integers from 10 to 50"
      ]
    },
    {
      "cell_type": "code",
      "source": [
        "int_array = np.arange(10,51)\n",
        "int_array"
      ],
      "metadata": {
        "colab": {
          "base_uri": "https://localhost:8080/"
        },
        "id": "ACB3CFyk14fK",
        "outputId": "2947c339-7a8c-486d-b9f7-02ebae413e3e"
      },
      "execution_count": 6,
      "outputs": [
        {
          "output_type": "execute_result",
          "data": {
            "text/plain": [
              "array([10, 11, 12, 13, 14, 15, 16, 17, 18, 19, 20, 21, 22, 23, 24, 25, 26,\n",
              "       27, 28, 29, 30, 31, 32, 33, 34, 35, 36, 37, 38, 39, 40, 41, 42, 43,\n",
              "       44, 45, 46, 47, 48, 49, 50])"
            ]
          },
          "metadata": {},
          "execution_count": 6
        }
      ]
    },
    {
      "cell_type": "markdown",
      "metadata": {
        "id": "0jIBegGdZf1O"
      },
      "source": [
        "#### Create an array of all the even integers from 10 to 50"
      ]
    },
    {
      "cell_type": "code",
      "source": [
        "even_array =  np.arange(10,51,2)\n",
        "even_array"
      ],
      "metadata": {
        "colab": {
          "base_uri": "https://localhost:8080/"
        },
        "id": "jSuyfFg32LFy",
        "outputId": "477d20f5-6cdb-4c5a-a5e4-dc032e7e24e3"
      },
      "execution_count": 8,
      "outputs": [
        {
          "output_type": "execute_result",
          "data": {
            "text/plain": [
              "array([10, 12, 14, 16, 18, 20, 22, 24, 26, 28, 30, 32, 34, 36, 38, 40, 42,\n",
              "       44, 46, 48, 50])"
            ]
          },
          "metadata": {},
          "execution_count": 8
        }
      ]
    },
    {
      "cell_type": "markdown",
      "metadata": {
        "id": "R4tg1aYcZf1P"
      },
      "source": [
        "#### Create a 3x3 matrix with values ranging from 0 to 8"
      ]
    },
    {
      "cell_type": "code",
      "source": [
        "matrix = np.arange(0,9).reshape(3,3)\n",
        "\n",
        "matrix"
      ],
      "metadata": {
        "colab": {
          "base_uri": "https://localhost:8080/"
        },
        "id": "Jjfs--sE2oTb",
        "outputId": "33e7e4ef-7090-497d-836e-145e4cfe5b0b"
      },
      "execution_count": 12,
      "outputs": [
        {
          "output_type": "execute_result",
          "data": {
            "text/plain": [
              "array([[0, 1, 2],\n",
              "       [3, 4, 5],\n",
              "       [6, 7, 8]])"
            ]
          },
          "metadata": {},
          "execution_count": 12
        }
      ]
    },
    {
      "cell_type": "markdown",
      "metadata": {
        "id": "4fhXgSs-Zf1P"
      },
      "source": [
        "#### Create a 3x3 identity matrix"
      ]
    },
    {
      "cell_type": "code",
      "source": [
        "identity_matrix = np.identity(3, dtype=int)\n",
        "\n",
        "identity_matrix"
      ],
      "metadata": {
        "colab": {
          "base_uri": "https://localhost:8080/"
        },
        "id": "8ss1NWHi3Mjh",
        "outputId": "e39afbee-4af2-4de1-f357-8f458bbf9fc0"
      },
      "execution_count": 16,
      "outputs": [
        {
          "output_type": "execute_result",
          "data": {
            "text/plain": [
              "array([[1, 0, 0],\n",
              "       [0, 1, 0],\n",
              "       [0, 0, 1]])"
            ]
          },
          "metadata": {},
          "execution_count": 16
        }
      ]
    },
    {
      "cell_type": "markdown",
      "metadata": {
        "id": "aarV_RaxZf1P"
      },
      "source": [
        "#### Use NumPy to generate a random number between 0 and 1"
      ]
    },
    {
      "cell_type": "code",
      "source": [
        "random_number = np.random.rand()\n",
        "random_number"
      ],
      "metadata": {
        "colab": {
          "base_uri": "https://localhost:8080/"
        },
        "id": "6Lw5b0fR4CuD",
        "outputId": "fa36a685-a255-4229-b4ca-60045ab91102"
      },
      "execution_count": 20,
      "outputs": [
        {
          "output_type": "execute_result",
          "data": {
            "text/plain": [
              "0.5077350585190263"
            ]
          },
          "metadata": {},
          "execution_count": 20
        }
      ]
    },
    {
      "cell_type": "markdown",
      "metadata": {
        "id": "o_i0shH5Zf1Q"
      },
      "source": [
        "#### Use NumPy to generate an array of 25 random numbers sampled from a standard normal distribution"
      ]
    },
    {
      "cell_type": "code",
      "source": [
        "random_number_25 = np.random.rand(25)\n",
        "random_number_25"
      ],
      "metadata": {
        "colab": {
          "base_uri": "https://localhost:8080/"
        },
        "id": "U3Sbmq8T4xD3",
        "outputId": "ba4dd32a-ede5-4940-aa46-7e9703546f54"
      },
      "execution_count": 21,
      "outputs": [
        {
          "output_type": "execute_result",
          "data": {
            "text/plain": [
              "array([0.85495507, 0.64388571, 0.59257624, 0.86440459, 0.67318292,\n",
              "       0.21643764, 0.06015473, 0.30339758, 0.51579807, 0.99346856,\n",
              "       0.31245002, 0.78938942, 0.75730451, 0.28010909, 0.84107091,\n",
              "       0.98786109, 0.49753549, 0.69603332, 0.68860411, 0.16402202,\n",
              "       0.66465016, 0.76056468, 0.71077942, 0.65038278, 0.17212363])"
            ]
          },
          "metadata": {},
          "execution_count": 21
        }
      ]
    },
    {
      "cell_type": "markdown",
      "metadata": {
        "id": "GrIGPkEaZf1Q"
      },
      "source": [
        "#### Create the following matrix:"
      ]
    },
    {
      "cell_type": "markdown",
      "source": [
        "#Shape and Size Functions\n",
        "shape: Returns the shape (dimensions) of the array.\n",
        "\n",
        "size: Returns the total number of elements in the array.\n",
        "\n",
        "ndim: Returns the number of dimensions of the array.\n",
        "\n"
      ],
      "metadata": {
        "id": "dxavNC1Efd_3"
      }
    },
    {
      "cell_type": "markdown",
      "source": [
        "**2. Reshaping Functions**\n",
        "\n",
        "\n",
        "1.   reshape: Reshapes the array into a specified shape.\n",
        "2.   flatten: Converts a multi-dimensional array into a 1D array.\n",
        "\n",
        "\n"
      ],
      "metadata": {
        "id": "fTKe2LF7f9xT"
      }
    },
    {
      "cell_type": "markdown",
      "source": [
        "**3. Mathematical Functions**\n",
        "sum: Returns the sum of all elements or along an axis.\n",
        "\n",
        "1.   sum: Returns the sum of all elements or along an axis\n",
        "2.   mean: Calculates the mean of elements.\n",
        "\n",
        "max, min: Returns the maximum or minimum value in the array.\n",
        "\n",
        "\n"
      ],
      "metadata": {
        "id": "mufdJbPjgZmI"
      }
    },
    {
      "cell_type": "markdown",
      "source": [
        "#Shape and Size Functions\n",
        "shape: Returns the shape (dimensions) of the array.\n",
        "size: Returns the total number of elements in the array.\n",
        "\n"
      ],
      "metadata": {
        "id": "4pKdKUtJfYLE"
      }
    },
    {
      "cell_type": "markdown",
      "source": [
        "**4. Array Manipulation Functions**\n",
        "append: Appends values to the array (creates a new array)."
      ],
      "metadata": {
        "id": "5CeYHcgOhDym"
      }
    },
    {
      "cell_type": "markdown",
      "source": [
        "delete: Deletes elements from the array (creates a new array)."
      ],
      "metadata": {
        "id": "akhrn9Y6fQsS"
      }
    },
    {
      "cell_type": "markdown",
      "source": [
        "transpose or .T: Transposes the array."
      ],
      "metadata": {
        "id": "Z4uiROdVhbS1"
      }
    },
    {
      "cell_type": "markdown",
      "metadata": {
        "id": "t6H2TspZZf1R"
      },
      "source": [
        "## 6. Logical Operations\n",
        "where: Returns indices where a condition is true."
      ]
    },
    {
      "cell_type": "markdown",
      "source": [
        "**7. Sorting and Searching**\n",
        "sort: Sorts the elements."
      ],
      "metadata": {
        "id": "fzKQCvgOiB2g"
      }
    },
    {
      "cell_type": "markdown",
      "metadata": {
        "id": "NuZ5dpuwZf1T"
      },
      "source": [
        "**### Now do the following**"
      ]
    },
    {
      "cell_type": "markdown",
      "source": [
        "Copying\n",
        "copy: Creates a copy of the array."
      ],
      "metadata": {
        "id": "WgqY9or_iQzi"
      }
    },
    {
      "cell_type": "markdown",
      "source": [
        "Random Functions (from numpy.random)\n",
        "rand, randint: Generates random numbers."
      ],
      "metadata": {
        "id": "DP6J4bDCipu1"
      }
    },
    {
      "cell_type": "code",
      "source": [
        "matrix = np.random.rand(3,3)\n",
        "\n",
        "matrix"
      ],
      "metadata": {
        "colab": {
          "base_uri": "https://localhost:8080/"
        },
        "id": "QNH3JPpL7D0I",
        "outputId": "ab313e7a-8f24-40d7-a38f-57a4a0566fa1"
      },
      "execution_count": 36,
      "outputs": [
        {
          "output_type": "execute_result",
          "data": {
            "text/plain": [
              "array([[0.13696016, 0.85510773, 0.27454392],\n",
              "       [0.8402728 , 0.14005231, 0.54037496],\n",
              "       [0.2302092 , 0.97607581, 0.07185632]])"
            ]
          },
          "metadata": {},
          "execution_count": 36
        }
      ]
    },
    {
      "cell_type": "code",
      "source": [
        "arr1 = matrix\n",
        "\n",
        "arr2 = arr1.copy()\n",
        "\n",
        "arr2"
      ],
      "metadata": {
        "colab": {
          "base_uri": "https://localhost:8080/"
        },
        "id": "lLwF7BtO5mvX",
        "outputId": "23b99db3-41b5-447d-94db-4a59fc7883f5"
      },
      "execution_count": 38,
      "outputs": [
        {
          "output_type": "execute_result",
          "data": {
            "text/plain": [
              "array([[0.13696016, 0.85510773, 0.27454392],\n",
              "       [0.8402728 , 0.14005231, 0.54037496],\n",
              "       [0.2302092 , 0.97607581, 0.07185632]])"
            ]
          },
          "metadata": {},
          "execution_count": 38
        }
      ]
    },
    {
      "cell_type": "code",
      "source": [
        "np.random.rand(3)\n"
      ],
      "metadata": {
        "colab": {
          "base_uri": "https://localhost:8080/"
        },
        "id": "AbfilYIE6Bbw",
        "outputId": "cb44461e-3d54-4fbd-b7a7-64eb51efa659"
      },
      "execution_count": 39,
      "outputs": [
        {
          "output_type": "execute_result",
          "data": {
            "text/plain": [
              "array([0.99893839, 0.09692159, 0.72675076])"
            ]
          },
          "metadata": {},
          "execution_count": 39
        }
      ]
    },
    {
      "cell_type": "code",
      "source": [
        "np.random.rand(2,2)"
      ],
      "metadata": {
        "colab": {
          "base_uri": "https://localhost:8080/"
        },
        "id": "zeO94TUf6NpM",
        "outputId": "10d71463-bd9d-4429-b193-ab521ca44fb5"
      },
      "execution_count": 27,
      "outputs": [
        {
          "output_type": "execute_result",
          "data": {
            "text/plain": [
              "array([[0.93539745, 0.54605248],\n",
              "       [0.25075029, 0.1058547 ]])"
            ]
          },
          "metadata": {},
          "execution_count": 27
        }
      ]
    },
    {
      "cell_type": "code",
      "source": [
        "np.random.randint(1,10, size = 5)"
      ],
      "metadata": {
        "colab": {
          "base_uri": "https://localhost:8080/"
        },
        "id": "eQ8aXmIq6O2j",
        "outputId": "d733d022-6de0-4536-a1c1-3a709356bcc8"
      },
      "execution_count": 29,
      "outputs": [
        {
          "output_type": "execute_result",
          "data": {
            "text/plain": [
              "array([6, 3, 8, 3, 8])"
            ]
          },
          "metadata": {},
          "execution_count": 29
        }
      ]
    },
    {
      "cell_type": "markdown",
      "metadata": {
        "id": "9cbVIMvBZf1T"
      },
      "source": [
        "#### Get the sum of all the values in arr"
      ]
    },
    {
      "cell_type": "code",
      "source": [
        "sum_array = np.sum(arr1)\n",
        "\n",
        "sum_array"
      ],
      "metadata": {
        "colab": {
          "base_uri": "https://localhost:8080/"
        },
        "id": "UJ9_-ueJ6lna",
        "outputId": "513f08f8-8556-401b-d4e6-05f78d8f6ac3"
      },
      "execution_count": 40,
      "outputs": [
        {
          "output_type": "execute_result",
          "data": {
            "text/plain": [
              "np.float64(4.065453203243088)"
            ]
          },
          "metadata": {},
          "execution_count": 40
        }
      ]
    },
    {
      "cell_type": "markdown",
      "metadata": {
        "id": "XEiP6n-vZf1T"
      },
      "source": [
        "#### Get the standard deviation of the values in arr"
      ]
    },
    {
      "cell_type": "code",
      "source": [
        "std_array = np.std(arr1)\n",
        "\n",
        "std_array"
      ],
      "metadata": {
        "colab": {
          "base_uri": "https://localhost:8080/"
        },
        "id": "xt1k8Mwb6w8g",
        "outputId": "86550fed-194c-4834-c2f5-b3c32e22c3de"
      },
      "execution_count": 41,
      "outputs": [
        {
          "output_type": "execute_result",
          "data": {
            "text/plain": [
              "np.float64(0.33623222386677487)"
            ]
          },
          "metadata": {},
          "execution_count": 41
        }
      ]
    },
    {
      "cell_type": "markdown",
      "metadata": {
        "id": "8h3WA51HZf1U"
      },
      "source": [
        "#### Get the sum of all the columns in arr"
      ]
    },
    {
      "cell_type": "code",
      "source": [
        "# prompt: Get the sum of all the columns in arr\n",
        "\n",
        "sum_of_columns = np.sum(arr1, axis=0)\n",
        "sum_of_columns\n"
      ],
      "metadata": {
        "id": "ntQy0aCA7g2w"
      },
      "execution_count": null,
      "outputs": []
    },
    {
      "cell_type": "code",
      "source": [
        "sum_col = np.sum(arr1, axis = 0)\n",
        "\n",
        "sum_col"
      ],
      "metadata": {
        "colab": {
          "base_uri": "https://localhost:8080/"
        },
        "id": "PuajsoYF64DG",
        "outputId": "192d1567-25b4-492c-d466-0631709ba027"
      },
      "execution_count": 42,
      "outputs": [
        {
          "output_type": "execute_result",
          "data": {
            "text/plain": [
              "array([1.20744216, 1.97123585, 0.88677519])"
            ]
          },
          "metadata": {},
          "execution_count": 42
        }
      ]
    },
    {
      "cell_type": "markdown",
      "metadata": {
        "collapsed": true,
        "id": "dEqF9MwRZf1V"
      },
      "source": [
        "# Great Job!"
      ]
    }
  ],
  "metadata": {
    "kernelspec": {
      "display_name": "Python 3 (ipykernel)",
      "language": "python",
      "name": "python3"
    },
    "language_info": {
      "codemirror_mode": {
        "name": "ipython",
        "version": 3
      },
      "file_extension": ".py",
      "mimetype": "text/x-python",
      "name": "python",
      "nbconvert_exporter": "python",
      "pygments_lexer": "ipython3",
      "version": "3.9.13"
    },
    "colab": {
      "provenance": []
    }
  },
  "nbformat": 4,
  "nbformat_minor": 0
}